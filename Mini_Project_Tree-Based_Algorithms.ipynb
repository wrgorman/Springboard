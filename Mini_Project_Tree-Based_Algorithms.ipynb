{
 "cells": [
  {
   "cell_type": "markdown",
   "metadata": {},
   "source": [
    "# Mini Project: Tree-Based Algorithms"
   ]
  },
  {
   "cell_type": "markdown",
   "metadata": {},
   "source": [
    "## The \"German Credit\" Dataset"
   ]
  },
  {
   "cell_type": "markdown",
   "metadata": {},
   "source": [
    "### Dataset Details"
   ]
  },
  {
   "cell_type": "markdown",
   "metadata": {},
   "source": [
    "This dataset has two classes (these would be considered labels in Machine Learning terms) to describe the worthiness of a personal loan: \"Good\" or \"Bad\". There are predictors related to attributes, such as: checking account status, duration, credit history, purpose of the loan, amount of the loan, savings accounts or bonds, employment duration, installment rate in percentage of disposable income, personal information, other debtors/guarantors, residence duration, property, age, other installment plans, housing, number of existing credits, job information, number of people being liable to provide maintenance for, telephone, and foreign worker status.\n",
    "\n",
    "Many of these predictors are discrete and have been expanded into several 0/1 indicator variables (a.k.a. they have been one-hot-encoded).\n",
    "\n",
    "This dataset has been kindly provided by Professor Dr. Hans Hofmann of the University of Hamburg, and can also be found on the UCI Machine Learning Repository."
   ]
  },
  {
   "cell_type": "markdown",
   "metadata": {},
   "source": [
    "\n",
    "\n",
    "\n"
   ]
  },
  {
   "cell_type": "markdown",
   "metadata": {},
   "source": [
    "## Decision Trees"
   ]
  },
  {
   "cell_type": "markdown",
   "metadata": {},
   "source": [
    " As we have learned in the previous lectures, Decision Trees as a family of algorithms (irrespective to the particular implementation) are powerful algorithms that can produce models with a predictive accuracy higher than that produced by linear models, such as Linear or Logistic Regression. Primarily, this is due to the fact the DT's can model nonlinear relationships, and also have a number of tuning paramters, that allow for the practicioner to achieve the best possible model. An added bonus is the ability to visualize the trained Decision Tree model, which allows for some insight into how the model has produced the predictions that it has. One caveat here, to keep in mind, is that sometimes, due to the size of the dataset (both in the sense of the number of records, as well as the number of features), the visualization might prove to be very large and complex, increasing the difficulty of interpretation."
   ]
  },
  {
   "cell_type": "markdown",
   "metadata": {},
   "source": [
    "To give you a very good example of how Decision Trees can be visualized and interpreted, we would strongly recommend that, before continuing on with solving the problems in this Mini Project, you take the time to read this fanstastic, detailed and informative blog post: http://explained.ai/decision-tree-viz/index.html"
   ]
  },
  {
   "cell_type": "markdown",
   "metadata": {},
   "source": [
    "## Building Your First Decision Tree Model"
   ]
  },
  {
   "cell_type": "markdown",
   "metadata": {},
   "source": [
    "So, now it's time to jump straight into the heart of the matter. Your first task, is to build a Decision Tree model, using the aforementioned \"German Credit\" dataset, which contains 1,000 records, and 62 columns (one of them presents the labels, and the other 61 present the potential features for the model.)"
   ]
  },
  {
   "cell_type": "markdown",
   "metadata": {},
   "source": [
    "For this task, you will be using the scikit-learn library, which comes already pre-installed with the Anaconda Python distribution. In case you're not using that, you can easily install it using pip."
   ]
  },
  {
   "cell_type": "markdown",
   "metadata": {},
   "source": [
    "Before embarking on creating your first model, we would strongly encourage you to read the short tutorial for Decision Trees in scikit-learn (http://scikit-learn.org/stable/modules/tree.html), and then dive a bit deeper into the documentation of the algorithm itself (http://scikit-learn.org/stable/modules/generated/sklearn.tree.DecisionTreeClassifier.html). "
   ]
  },
  {
   "cell_type": "markdown",
   "metadata": {},
   "source": [
    "Also, since you want to be able to present the results of your model, we suggest you take a look at the tutorial for accuracy metrics for classification models (http://scikit-learn.org/stable/modules/model_evaluation.html#classification-report) as well as the more detailed documentation (http://scikit-learn.org/stable/modules/generated/sklearn.metrics.classification_report.html).\n",
    "\n",
    "Finally, an *amazing* resource that explains the various classification model accuracy metrics, as well as the relationships between them, can be found on Wikipedia: https://en.wikipedia.org/wiki/Confusion_matrix"
   ]
  },
  {
   "cell_type": "markdown",
   "metadata": {},
   "source": [
    "(Note: as you've already learned in the Logistic Regression mini project, a standard practice in Machine Learning for achieving the best possible result when training a model is to use hyperparameter tuning, through Grid Search and k-fold Cross Validation. We strongly encourage you to use it here as well, not just because it's standard practice, but also becuase it's not going to be computationally to intensive, due to the size of the dataset that you're working with. Our suggestion here is that you split the data into 70% training, and 30% testing. Then, do the hyperparameter tuning and Cross Validation on the training set, and afterwards to a final test on the testing set.)"
   ]
  },
  {
   "cell_type": "markdown",
   "metadata": {},
   "source": [
    "### Now we pass the torch onto you! You can start building your first Decision Tree model! :)"
   ]
  },
  {
   "cell_type": "code",
   "execution_count": 4,
   "metadata": {},
   "outputs": [],
   "source": [
    "import pandas as pd\n",
    "from sklearn.tree import DecisionTreeClassifier\n",
    "from sklearn.metrics import classification_report\n",
    "from sklearn.model_selection import train_test_split\n",
    "from sklearn.model_selection import GridSearchCV"
   ]
  },
  {
   "cell_type": "code",
   "execution_count": 5,
   "metadata": {},
   "outputs": [
    {
     "name": "stdout",
     "output_type": "stream",
     "text": [
      "shape (1000, 62)\n"
     ]
    },
    {
     "data": {
      "text/html": [
       "<div>\n",
       "<style scoped>\n",
       "    .dataframe tbody tr th:only-of-type {\n",
       "        vertical-align: middle;\n",
       "    }\n",
       "\n",
       "    .dataframe tbody tr th {\n",
       "        vertical-align: top;\n",
       "    }\n",
       "\n",
       "    .dataframe thead th {\n",
       "        text-align: right;\n",
       "    }\n",
       "</style>\n",
       "<table border=\"1\" class=\"dataframe\">\n",
       "  <thead>\n",
       "    <tr style=\"text-align: right;\">\n",
       "      <th></th>\n",
       "      <th>0</th>\n",
       "    </tr>\n",
       "  </thead>\n",
       "  <tbody>\n",
       "  </tbody>\n",
       "</table>\n",
       "</div>"
      ],
      "text/plain": [
       "Empty DataFrame\n",
       "Columns: [0]\n",
       "Index: []"
      ]
     },
     "execution_count": 5,
     "metadata": {},
     "output_type": "execute_result"
    }
   ],
   "source": [
    "df = pd.read_csv(\"GermanCredit.csv\", sep = ',', header = 0)\n",
    "\n",
    "print(\"shape\", df.shape)\n",
    "\n",
    "#Checking for missing data\n",
    "NAs = pd.concat([df.isnull().sum()], axis=1) #, keys=[‘Train’])\n",
    "NAs[NAs.sum(axis=1) > 0]\n",
    "\n",
    "#pd.concat([df], axis=1) # , keys=['Train'])\n",
    "#pd.concat([df.isnull()], axis=1)\n",
    "#pd.concat([df.isnull().sum()], axis=1)"
   ]
  },
  {
   "cell_type": "code",
   "execution_count": 6,
   "metadata": {},
   "outputs": [
    {
     "name": "stdout",
     "output_type": "stream",
     "text": [
      "(1000, 62)\n",
      "(1000, 61)\n",
      "(1000, 1)\n",
      "(700, 61)\n",
      "(700, 1)\n",
      "(300, 61)\n",
      "(300, 1)\n"
     ]
    }
   ],
   "source": [
    "# Your code here! :)\n",
    "\n",
    "\n",
    "import numpy as np \n",
    "from sklearn.metrics import confusion_matrix \n",
    "from sklearn.tree import DecisionTreeClassifier \n",
    "#from sklearn.metrics import accuracy_score \n",
    "\n",
    "#df[['Class']]\n",
    "#Xlr, Xtestlr, ylr, ytestlr = train_test_split(df[['Housing.Own','Housing.Rent']].values, \n",
    "#                                              (df.Class == \"Good\").values, random_state=5,\n",
    "#                                             test_size = 0.30,\n",
    "#                                              train_size = 0.70)\n",
    "\n",
    "\n",
    "#X = df.pop('Class') # doesn't work since Class isn't an index \n",
    "X = df.drop(['Class'], axis=1)\n",
    "Y = df[['Class']]\n",
    "\n",
    "print(df.shape)\n",
    "print(X.shape)\n",
    "print(Y.shape)\n",
    "\n",
    "#split the data into 70% training, and 30% testing\n",
    "X_train, X_test, y_train, y_test = train_test_split(X, Y, \n",
    "    random_state=100,\n",
    "    test_size = 0.30,\n",
    "    train_size = 0.70)    \n",
    "\n",
    "print(X_train.shape)\n",
    "print(y_train.shape)\n",
    "\n",
    "print(X_test.shape)\n",
    "print(y_test.shape)\n",
    "\n",
    "\n"
   ]
  },
  {
   "cell_type": "code",
   "execution_count": 20,
   "metadata": {},
   "outputs": [],
   "source": [
    "#in the cells below i implement a version of gridsearchcv.\n",
    "#after talking with Jeff, I will try to use gridsearchcv in this cell (rather than reinventing the wheel)\n",
    "\n",
    "from sklearn import svm, datasets\n",
    "from sklearn.model_selection import GridSearchCV\n",
    "\n",
    "rfc = DecisionTreeClassifier(criterion = \"gini\", random_state=100)\n",
    "\n",
    "\n",
    "\n",
    "\n",
    "\n"
   ]
  },
  {
   "cell_type": "code",
   "execution_count": 29,
   "metadata": {},
   "outputs": [
    {
     "name": "stdout",
     "output_type": "stream",
     "text": [
      "{'criterion': 'entropy', 'max_depth': 4.0, 'max_features': 'log2', 'min_samples_leaf': 0.1, 'min_samples_split': 0.1}\n"
     ]
    }
   ],
   "source": [
    "import numpy as np \n",
    "\n",
    "\n",
    "param_grid = { \n",
    "    'n_estimators': [200, 700],\n",
    "    'max_features': ['auto', 'sqrt', 'log2']\n",
    "}\n",
    "\n",
    "max_depths = np.linspace(1, 32, 32, endpoint=True)\n",
    "min_samples_splits = np.linspace(0.1, 1.0, 10, endpoint=True)\n",
    "min_samples_leafs = np.linspace(0.1, 0.5, 5, endpoint=True)\n",
    "\n",
    "param_grid = { \n",
    "    'max_depth': max_depths,\n",
    "    'min_samples_split': min_samples_splits,\n",
    "    'min_samples_leaf': min_samples_leafs,\n",
    "    \"criterion\" : ['gini', 'entropy'],\n",
    "    #'n_estimators': [200, 700],\n",
    "    'max_features': ['auto', 'sqrt', 'log2']\n",
    "}\n",
    "\n",
    "CV_rfc = GridSearchCV(estimator = rfc, param_grid = param_grid, cv = 5)\n",
    "\n",
    "X = df.drop(['Class'], axis=1)\n",
    "Y = df[['Class']]\n",
    "\n",
    "CV_rfc.fit(X, Y)\n",
    "print (CV_rfc.best_params_) # {'max_depth': 2.0, 'min_samples_leaf': 0.2, 'min_samples_split': 0.1}\n",
    "\n",
    "\n",
    "#split the data into 70% training, and 30% testing\n",
    "X_train, X_test, y_train, y_test = train_test_split(X, Y, \n",
    "    random_state=100,\n",
    "    test_size = 0.30,\n",
    "    train_size = 0.70)\n",
    "\n",
    "\n"
   ]
  },
  {
   "cell_type": "code",
   "execution_count": 30,
   "metadata": {},
   "outputs": [
    {
     "name": "stdout",
     "output_type": "stream",
     "text": [
      "gini Accuracy :  0.74\n",
      "Report :               precision    recall  f1-score   support\n",
      "\n",
      "        Bad       0.54      0.23      0.33        81\n",
      "       Good       0.77      0.93      0.84       219\n",
      "\n",
      "avg / total       0.71      0.74      0.70       300\n",
      "\n"
     ]
    }
   ],
   "source": [
    "from sklearn.metrics import accuracy_score\n",
    "\n",
    "y_predict  = CV_rfc.predict(X_test) \n",
    "\n",
    "print (\"gini Accuracy : \", \n",
    "accuracy_score(y_test, y_predict)) # sklearn.metrics.accuracy_score(y_true, y_pred, normalize=True, sample_weight=None)\n",
    "      \n",
    "# sklearn.metrics.classification_report(y_true, y_pred, labels=None, target_names=None, sample_weight=None, digits=2, \n",
    "#    output_dict=False)[source]\n",
    "print(\"Report : \", \n",
    "classification_report(y_test, y_predict)) "
   ]
  },
  {
   "cell_type": "code",
   "execution_count": 5,
   "metadata": {},
   "outputs": [],
   "source": [
    "from sklearn.model_selection import KFold\n",
    "from sklearn.metrics import accuracy_score\n",
    "\n",
    "#k-cross validation\n",
    "def cv_score(clf, x, y): #, score_func=accuracy_score):\n",
    "    result = 0\n",
    "    nfold = 5\n",
    "    for train, test in KFold(nfold).split(x): # split data into train/test groups, 5 times\n",
    "        #print('test',test)\n",
    "        #print('train', train)\n",
    "        kfold_trainx = x.iloc[train,:]  # e.g, x.iloc[[0,1,2],:]\n",
    "        kfold_trainy = y.iloc[train,:]\n",
    "        \n",
    "        clf.fit(kfold_trainx, kfold_trainy) # fit\n",
    "        \n",
    "        kfold_testx = x.iloc[test,:]\n",
    "        kfold_testy = y.iloc[test,:]\n",
    "        \n",
    "        kfold_predicty  = clf.predict(kfold_testx) \n",
    "        \n",
    "        result += accuracy_score(kfold_testy, kfold_predicty)\n",
    "        #result += score_func(clf.predict(kfoldx, kfoldy)) # evaluate score function on held-out data\n",
    "    \n",
    "    return result / nfold # average\n",
    "\n",
    "\n"
   ]
  },
  {
   "cell_type": "code",
   "execution_count": 6,
   "metadata": {},
   "outputs": [
    {
     "name": "stdout",
     "output_type": "stream",
     "text": [
      "gini k-fold cross validation score: 0.7314285714285715\n",
      "max depth gini k-fold cross validation score: 1.0 0.6871428571428572\n",
      "max depth gini k-fold cross validation score: 2.0 0.7185714285714285\n",
      "max depth gini k-fold cross validation score: 3.0 0.7357142857142858\n",
      "max depth gini k-fold cross validation score: 4.0 0.7271428571428572\n",
      "max depth gini k-fold cross validation score: 5.0 0.7385714285714284\n",
      "max depth gini k-fold cross validation score: 6.0 0.7071428571428571\n",
      "max depth gini k-fold cross validation score: 7.0 0.7028571428571428\n",
      "max depth gini k-fold cross validation score: 8.0 0.6985714285714286\n",
      "max depth gini k-fold cross validation score: 9.0 0.71\n",
      "max depth gini k-fold cross validation score: 10.0 0.7\n",
      "max depth gini k-fold cross validation score: 11.0 0.6942857142857143\n",
      "max depth gini k-fold cross validation score: 12.0 0.7014285714285714\n",
      "max depth gini k-fold cross validation score: 13.0 0.6928571428571428\n",
      "max depth gini k-fold cross validation score: 14.0 0.6971428571428572\n",
      "max depth gini k-fold cross validation score: 15.0 0.6871428571428572\n",
      "max depth gini k-fold cross validation score: 16.0 0.6985714285714286\n",
      "max depth gini k-fold cross validation score: 17.0 0.6971428571428572\n",
      "max depth gini k-fold cross validation score: 18.0 0.6971428571428572\n",
      "max depth gini k-fold cross validation score: 19.0 0.6971428571428572\n",
      "max depth gini k-fold cross validation score: 20.0 0.6971428571428572\n",
      "max depth gini k-fold cross validation score: 21.0 0.6971428571428572\n",
      "max depth gini k-fold cross validation score: 22.0 0.6971428571428572\n",
      "max depth gini k-fold cross validation score: 23.0 0.6971428571428572\n",
      "max depth gini k-fold cross validation score: 24.0 0.6971428571428572\n",
      "max depth gini k-fold cross validation score: 25.0 0.6971428571428572\n",
      "max depth gini k-fold cross validation score: 26.0 0.6971428571428572\n",
      "max depth gini k-fold cross validation score: 27.0 0.6971428571428572\n",
      "max depth gini k-fold cross validation score: 28.0 0.6971428571428572\n",
      "max depth gini k-fold cross validation score: 29.0 0.6971428571428572\n",
      "max depth gini k-fold cross validation score: 30.0 0.6971428571428572\n",
      "max depth gini k-fold cross validation score: 31.0 0.6971428571428572\n",
      "max depth gini k-fold cross validation score: 32.0 0.6971428571428572\n",
      "min samples gini k-fold cross validation score: 0.1 0.7085714285714285\n",
      "min samples gini k-fold cross validation score: 0.2 0.7342857142857143\n",
      "min samples gini k-fold cross validation score: 0.30000000000000004 0.74\n",
      "min samples gini k-fold cross validation score: 0.4 0.7271428571428571\n",
      "min samples gini k-fold cross validation score: 0.5 0.7242857142857142\n",
      "min samples gini k-fold cross validation score: 0.6 0.6957142857142857\n",
      "min samples gini k-fold cross validation score: 0.7000000000000001 0.6871428571428572\n",
      "min samples gini k-fold cross validation score: 0.8 0.6871428571428572\n",
      "min samples gini k-fold cross validation score: 0.9 0.6871428571428572\n",
      "min samples gini k-fold cross validation score: 1.0 0.6871428571428572\n",
      "[0.1 0.2 0.3 0.4 0.5]\n",
      "min sample leaves gini k-fold cross validation score: 0.1 0.7142857142857142\n",
      "min sample leaves gini k-fold cross validation score: 0.2 0.7314285714285715\n",
      "min sample leaves gini k-fold cross validation score: 0.30000000000000004 0.6871428571428572\n",
      "min sample leaves gini k-fold cross validation score: 0.4 0.6871428571428572\n",
      "min sample leaves gini k-fold cross validation score: 0.5 0.6871428571428572\n",
      "Confusion Matrix:  [[  0  81]\n",
      " [  0 219]]\n",
      "gini Accuracy :  0.73\n",
      "Report :               precision    recall  f1-score   support\n",
      "\n",
      "        Bad       0.00      0.00      0.00        81\n",
      "       Good       0.73      1.00      0.84       219\n",
      "\n",
      "avg / total       0.53      0.73      0.62       300\n",
      "\n",
      "Confusion Matrix: first row pred NO/actual NO, pred YES/Actional NO --second row Pred No/Actual YES, pred YES/Actual YES [[ 50  31]\n",
      " [ 53 166]]\n",
      "Accuracy :  0.72\n",
      "Report :               precision    recall  f1-score   support\n",
      "\n",
      "        Bad       0.49      0.62      0.54        81\n",
      "       Good       0.84      0.76      0.80       219\n",
      "\n",
      "avg / total       0.75      0.72      0.73       300\n",
      "\n"
     ]
    },
    {
     "name": "stderr",
     "output_type": "stream",
     "text": [
      "C:\\Users\\wrgorman\\AppData\\Local\\Continuum\\anaconda3\\lib\\site-packages\\sklearn\\metrics\\classification.py:1135: UndefinedMetricWarning: Precision and F-score are ill-defined and being set to 0.0 in labels with no predicted samples.\n",
      "  'precision', 'predicted', average, warn_for)\n"
     ]
    }
   ],
   "source": [
    "#from sklearn.model_selection import KFold\n",
    "#from sklearn.metrics import accuracy_score\n",
    "\n",
    "# hyperparameter tuning, through Grid Search and k-fold Cross Validation\n",
    "\n",
    "\n",
    "#train using giniIndex\n",
    "# Creating the classifier object \n",
    "clf_gini = DecisionTreeClassifier(criterion = \"gini\", \n",
    "                                  random_state=100, max_depth=5, min_samples_split = 0.3, min_samples_leaf=0.2) \n",
    "#                                  random_state=100, max_depth=3, min_samples_leaf=5) \n",
    "  \n",
    "    \n",
    "    \n",
    "    \n",
    "    \n",
    "    \n",
    "    \n",
    "score = cv_score(clf_gini, X_train, y_train)\n",
    "print(\"gini k-fold cross validation score:\", score)\n",
    "\n",
    "max_depths = np.linspace(1, 32, 32, endpoint=True)\n",
    "for max_depth in max_depths:\n",
    "    clf_gini = DecisionTreeClassifier(criterion = \"gini\", random_state=100, max_depth=max_depth) \n",
    "    score = cv_score(clf_gini, X_train, y_train)\n",
    "    print(\"max depth gini k-fold cross validation score:\", max_depth, score)\n",
    "\n",
    "min_samples_splits = np.linspace(0.1, 1.0, 10, endpoint=True)\n",
    "for min_samples_split in min_samples_splits:\n",
    "    clf_gini = DecisionTreeClassifier(criterion = \"gini\", random_state=100, min_samples_split=min_samples_split) \n",
    "    score = cv_score(clf_gini, X_train, y_train)\n",
    "    print(\"min samples gini k-fold cross validation score:\", min_samples_split, score)\n",
    "    \n",
    "min_samples_leafs = np.linspace(0.1, 0.5, 5, endpoint=True)\n",
    "print(min_samples_leafs)\n",
    "for min_samples_leaf in min_samples_leafs:\n",
    "    clf_gini = DecisionTreeClassifier(criterion = \"gini\", random_state=100, min_samples_leaf=min_samples_leaf) \n",
    "    score = cv_score(clf_gini, X_train, y_train)\n",
    "    print(\"min sample leaves gini k-fold cross validation score:\", min_samples_leaf, score)\n",
    "\n",
    "\n",
    "# Performing training \n",
    "# \tBuild a decision tree classifier from the training set (X_train, y_train)\n",
    "clf_gini.fit(X_train, y_train)\n",
    "\n",
    "# Predicton on test with giniIndex \n",
    "# Predict class or regression value for X_test\n",
    "y_pred_gini  = clf_gini.predict(X_test) \n",
    "#print(\"Predicted values:\") \n",
    "#print(y_pred_gini) \n",
    "\n",
    "#calculate accuracy\n",
    "print(\"Confusion Matrix: \", \n",
    "confusion_matrix(y_test, y_pred_gini)) # sklearn.metrics.confusion_matrix(y_true, y_pred, labels=None, sample_weight=None)\n",
    "      \n",
    "print (\"gini Accuracy : \", \n",
    "accuracy_score(y_test,y_pred_gini)) # sklearn.metrics.accuracy_score(y_true, y_pred, normalize=True, sample_weight=None)\n",
    "      \n",
    "# sklearn.metrics.classification_report(y_true, y_pred, labels=None, target_names=None, sample_weight=None, digits=2, \n",
    "#    output_dict=False)[source]\n",
    "print(\"Report : \", \n",
    "classification_report(y_test, y_pred_gini)) \n",
    "\n",
    "\n",
    "\n",
    "#train using entropy\n",
    "# Decision tree with entropy \n",
    "clf_entropy = DecisionTreeClassifier( \n",
    "            criterion = \"entropy\", random_state = 100, \n",
    "            max_depth = 20, min_samples_leaf = 5) \n",
    "           # max_depth = 3, min_samples_leaf = 5) \n",
    "  \n",
    "\n",
    "#print(\"depth\", clf_entropy.node_count)\n",
    "#print(\"num leaves\", clf_entropy.get_n_leaves())\n",
    "\n",
    "# Performing training \n",
    "clf_entropy.fit(X_train, y_train) \n",
    "\n",
    "# Predicton on test with giniIndex \n",
    "y_pred_entropy  = clf_entropy.predict(X_test) \n",
    "# print(\"Predicted values:\") \n",
    "# print(y_pred_entropy) \n",
    "\n",
    "#calculate accuracy\n",
    "print(\"Confusion Matrix: first row pred NO/actual NO, pred YES/Actional NO --second row Pred No/Actual YES, pred YES/Actual YES\", \n",
    "confusion_matrix(y_test, y_pred_entropy)) \n",
    "      \n",
    "print (\"Accuracy : \", \n",
    "accuracy_score(y_test,y_pred_entropy)) \n",
    "      \n",
    "print(\"Report : \", \n",
    "classification_report(y_test, y_pred_entropy)) \n",
    "\n",
    "\n",
    "\n"
   ]
  },
  {
   "cell_type": "markdown",
   "metadata": {},
   "source": [
    "### After you've built the best model you can, now it's time to visualize it!"
   ]
  },
  {
   "cell_type": "markdown",
   "metadata": {},
   "source": [
    "Rememeber that amazing blog post from a few paragraphs ago, that demonstrated how to visualize and interpret the results of your Decision Tree model. We've seen that this can perform very well, but let's see how it does on the \"German Credit\" dataset that we're working on, due to it being a bit larger than the one used by the blog authors."
   ]
  },
  {
   "cell_type": "markdown",
   "metadata": {},
   "source": [
    "First, we're going to need to install their package. If you're using Anaconda, this can be done easily by running:"
   ]
  },
  {
   "cell_type": "code",
   "execution_count": 7,
   "metadata": {},
   "outputs": [
    {
     "name": "stdout",
     "output_type": "stream",
     "text": [
      "Requirement already satisfied: dtreeviz in c:\\users\\wrgorman\\appdata\\local\\continuum\\anaconda3\\lib\\site-packages (0.3.3)\n",
      "Requirement already satisfied: matplotlib in c:\\users\\wrgorman\\appdata\\local\\continuum\\anaconda3\\lib\\site-packages (from dtreeviz) (2.2.3)\n",
      "Requirement already satisfied: numpy in c:\\users\\wrgorman\\appdata\\local\\continuum\\anaconda3\\lib\\site-packages (from dtreeviz) (1.15.1)\n",
      "Requirement already satisfied: scikit-learn in c:\\users\\wrgorman\\appdata\\local\\continuum\\anaconda3\\lib\\site-packages (from dtreeviz) (0.19.2)\n",
      "Requirement already satisfied: graphviz>=0.9 in c:\\users\\wrgorman\\appdata\\local\\continuum\\anaconda3\\lib\\site-packages (from dtreeviz) (0.10.1)\n",
      "Requirement already satisfied: pandas in c:\\users\\wrgorman\\appdata\\local\\continuum\\anaconda3\\lib\\site-packages (from dtreeviz) (0.23.4)\n",
      "Requirement already satisfied: colour in c:\\users\\wrgorman\\appdata\\local\\continuum\\anaconda3\\lib\\site-packages (from dtreeviz) (0.1.5)\n",
      "Requirement already satisfied: cycler>=0.10 in c:\\users\\wrgorman\\appdata\\local\\continuum\\anaconda3\\lib\\site-packages (from matplotlib->dtreeviz) (0.10.0)\n",
      "Requirement already satisfied: pyparsing!=2.0.4,!=2.1.2,!=2.1.6,>=2.0.1 in c:\\users\\wrgorman\\appdata\\local\\continuum\\anaconda3\\lib\\site-packages (from matplotlib->dtreeviz) (2.2.0)\n",
      "Requirement already satisfied: python-dateutil>=2.1 in c:\\users\\wrgorman\\appdata\\local\\continuum\\anaconda3\\lib\\site-packages (from matplotlib->dtreeviz) (2.7.3)\n",
      "Requirement already satisfied: pytz in c:\\users\\wrgorman\\appdata\\local\\continuum\\anaconda3\\lib\\site-packages (from matplotlib->dtreeviz) (2018.5)\n",
      "Requirement already satisfied: six>=1.10 in c:\\users\\wrgorman\\appdata\\local\\continuum\\anaconda3\\lib\\site-packages (from matplotlib->dtreeviz) (1.11.0)\n",
      "Requirement already satisfied: kiwisolver>=1.0.1 in c:\\users\\wrgorman\\appdata\\local\\continuum\\anaconda3\\lib\\site-packages (from matplotlib->dtreeviz) (1.0.1)\n",
      "Requirement already satisfied: setuptools in c:\\users\\wrgorman\\appdata\\local\\continuum\\anaconda3\\lib\\site-packages (from kiwisolver>=1.0.1->matplotlib->dtreeviz) (40.2.0)\n"
     ]
    },
    {
     "name": "stderr",
     "output_type": "stream",
     "text": [
      "twisted 18.7.0 requires PyHamcrest>=1.9.0, which is not installed.\n",
      "You are using pip version 10.0.1, however version 19.1.1 is available.\n",
      "You should consider upgrading via the 'python -m pip install --upgrade pip' command.\n"
     ]
    }
   ],
   "source": [
    "! pip install dtreeviz"
   ]
  },
  {
   "cell_type": "markdown",
   "metadata": {},
   "source": [
    "If for any reason this way of installing doesn't work for you straight out of the box, please refer to the more detailed documentation here: https://github.com/parrt/dtreeviz"
   ]
  },
  {
   "cell_type": "markdown",
   "metadata": {},
   "source": [
    "Now you're ready to visualize your Decision Tree model! Please feel free to use the blog post for guidance and inspiration!"
   ]
  },
  {
   "cell_type": "code",
   "execution_count": 8,
   "metadata": {},
   "outputs": [],
   "source": [
    "# Your code here! :)"
   ]
  },
  {
   "cell_type": "markdown",
   "metadata": {},
   "source": [
    "## Random Forests"
   ]
  },
  {
   "cell_type": "markdown",
   "metadata": {},
   "source": [
    "As discussed in the lecture videos, Decision Tree algorithms also have certain undesireable properties. Mainly the have low bias, which is good, but tend to have high variance - which is *not* so good (more about this problem here: https://en.wikipedia.org/wiki/Bias%E2%80%93variance_tradeoff)."
   ]
  },
  {
   "cell_type": "markdown",
   "metadata": {},
   "source": [
    "Noticing these problems, the late Professor Leo Breiman, in 2001, developed the Random Forests algorithm, which mitigates these problems, while at the same time providing even higher predictive accuracy than the majority of Decision Tree algorithm implementations. While the curriculum contains two excellent lectures on Random Forests, if you're interested, you can dive into the original paper here: https://link.springer.com/content/pdf/10.1023%2FA%3A1010933404324.pdf."
   ]
  },
  {
   "cell_type": "markdown",
   "metadata": {},
   "source": [
    "In the next part of this assignment, your are going to use the same \"German Credit\" dataset to train, tune, and measure the performance of a Random Forests model. You will also see certain functionalities that this model, even though it's a bit of a \"black box\", provides for some degree of interpretability."
   ]
  },
  {
   "cell_type": "markdown",
   "metadata": {},
   "source": [
    "First, let's build a Random Forests model, using the same best practices that you've used for your Decision Trees model. You can reuse the things you've already imported there, so no need to do any re-imports, new train/test splits, or loading up the data again."
   ]
  },
  {
   "cell_type": "code",
   "execution_count": 8,
   "metadata": {},
   "outputs": [
    {
     "name": "stderr",
     "output_type": "stream",
     "text": [
      "C:\\Users\\wrgorman\\AppData\\Local\\Continuum\\anaconda3\\lib\\site-packages\\sklearn\\ensemble\\weight_boosting.py:29: DeprecationWarning: numpy.core.umath_tests is an internal NumPy module and should not be imported. It will be removed in a future NumPy release.\n",
      "  from numpy.core.umath_tests import inner1d\n"
     ]
    }
   ],
   "source": [
    "from sklearn.ensemble import RandomForestClassifier"
   ]
  },
  {
   "cell_type": "code",
   "execution_count": 41,
   "metadata": {},
   "outputs": [
    {
     "name": "stdout",
     "output_type": "stream",
     "text": [
      "[10, 50, 100]\n",
      "[ 10  50 100]\n",
      "[ 10  50 100]\n",
      "[[ 10  50 100]]\n",
      "['gini', 'entropy']\n"
     ]
    },
    {
     "name": "stderr",
     "output_type": "stream",
     "text": [
      "C:\\Users\\wrgorman\\AppData\\Local\\Continuum\\anaconda3\\lib\\site-packages\\sklearn\\model_selection\\_validation.py:458: DataConversionWarning: A column-vector y was passed when a 1d array was expected. Please change the shape of y to (n_samples,), for example using ravel().\n",
      "  estimator.fit(X_train, y_train, **fit_params)\n",
      "C:\\Users\\wrgorman\\AppData\\Local\\Continuum\\anaconda3\\lib\\site-packages\\sklearn\\model_selection\\_validation.py:458: DataConversionWarning: A column-vector y was passed when a 1d array was expected. Please change the shape of y to (n_samples,), for example using ravel().\n",
      "  estimator.fit(X_train, y_train, **fit_params)\n",
      "C:\\Users\\wrgorman\\AppData\\Local\\Continuum\\anaconda3\\lib\\site-packages\\sklearn\\model_selection\\_validation.py:458: DataConversionWarning: A column-vector y was passed when a 1d array was expected. Please change the shape of y to (n_samples,), for example using ravel().\n",
      "  estimator.fit(X_train, y_train, **fit_params)\n",
      "C:\\Users\\wrgorman\\AppData\\Local\\Continuum\\anaconda3\\lib\\site-packages\\sklearn\\model_selection\\_validation.py:458: DataConversionWarning: A column-vector y was passed when a 1d array was expected. Please change the shape of y to (n_samples,), for example using ravel().\n",
      "  estimator.fit(X_train, y_train, **fit_params)\n",
      "C:\\Users\\wrgorman\\AppData\\Local\\Continuum\\anaconda3\\lib\\site-packages\\sklearn\\model_selection\\_validation.py:458: DataConversionWarning: A column-vector y was passed when a 1d array was expected. Please change the shape of y to (n_samples,), for example using ravel().\n",
      "  estimator.fit(X_train, y_train, **fit_params)\n",
      "C:\\Users\\wrgorman\\AppData\\Local\\Continuum\\anaconda3\\lib\\site-packages\\sklearn\\model_selection\\_validation.py:458: DataConversionWarning: A column-vector y was passed when a 1d array was expected. Please change the shape of y to (n_samples,), for example using ravel().\n",
      "  estimator.fit(X_train, y_train, **fit_params)\n",
      "C:\\Users\\wrgorman\\AppData\\Local\\Continuum\\anaconda3\\lib\\site-packages\\sklearn\\model_selection\\_validation.py:458: DataConversionWarning: A column-vector y was passed when a 1d array was expected. Please change the shape of y to (n_samples,), for example using ravel().\n",
      "  estimator.fit(X_train, y_train, **fit_params)\n",
      "C:\\Users\\wrgorman\\AppData\\Local\\Continuum\\anaconda3\\lib\\site-packages\\sklearn\\model_selection\\_validation.py:458: DataConversionWarning: A column-vector y was passed when a 1d array was expected. Please change the shape of y to (n_samples,), for example using ravel().\n",
      "  estimator.fit(X_train, y_train, **fit_params)\n",
      "C:\\Users\\wrgorman\\AppData\\Local\\Continuum\\anaconda3\\lib\\site-packages\\sklearn\\model_selection\\_validation.py:458: DataConversionWarning: A column-vector y was passed when a 1d array was expected. Please change the shape of y to (n_samples,), for example using ravel().\n",
      "  estimator.fit(X_train, y_train, **fit_params)\n",
      "C:\\Users\\wrgorman\\AppData\\Local\\Continuum\\anaconda3\\lib\\site-packages\\sklearn\\model_selection\\_validation.py:458: DataConversionWarning: A column-vector y was passed when a 1d array was expected. Please change the shape of y to (n_samples,), for example using ravel().\n",
      "  estimator.fit(X_train, y_train, **fit_params)\n",
      "C:\\Users\\wrgorman\\AppData\\Local\\Continuum\\anaconda3\\lib\\site-packages\\sklearn\\model_selection\\_validation.py:458: DataConversionWarning: A column-vector y was passed when a 1d array was expected. Please change the shape of y to (n_samples,), for example using ravel().\n",
      "  estimator.fit(X_train, y_train, **fit_params)\n",
      "C:\\Users\\wrgorman\\AppData\\Local\\Continuum\\anaconda3\\lib\\site-packages\\sklearn\\model_selection\\_validation.py:458: DataConversionWarning: A column-vector y was passed when a 1d array was expected. Please change the shape of y to (n_samples,), for example using ravel().\n",
      "  estimator.fit(X_train, y_train, **fit_params)\n",
      "C:\\Users\\wrgorman\\AppData\\Local\\Continuum\\anaconda3\\lib\\site-packages\\sklearn\\model_selection\\_validation.py:458: DataConversionWarning: A column-vector y was passed when a 1d array was expected. Please change the shape of y to (n_samples,), for example using ravel().\n",
      "  estimator.fit(X_train, y_train, **fit_params)\n",
      "C:\\Users\\wrgorman\\AppData\\Local\\Continuum\\anaconda3\\lib\\site-packages\\sklearn\\model_selection\\_validation.py:458: DataConversionWarning: A column-vector y was passed when a 1d array was expected. Please change the shape of y to (n_samples,), for example using ravel().\n",
      "  estimator.fit(X_train, y_train, **fit_params)\n",
      "C:\\Users\\wrgorman\\AppData\\Local\\Continuum\\anaconda3\\lib\\site-packages\\sklearn\\model_selection\\_validation.py:458: DataConversionWarning: A column-vector y was passed when a 1d array was expected. Please change the shape of y to (n_samples,), for example using ravel().\n",
      "  estimator.fit(X_train, y_train, **fit_params)\n",
      "C:\\Users\\wrgorman\\AppData\\Local\\Continuum\\anaconda3\\lib\\site-packages\\sklearn\\model_selection\\_validation.py:458: DataConversionWarning: A column-vector y was passed when a 1d array was expected. Please change the shape of y to (n_samples,), for example using ravel().\n",
      "  estimator.fit(X_train, y_train, **fit_params)\n",
      "C:\\Users\\wrgorman\\AppData\\Local\\Continuum\\anaconda3\\lib\\site-packages\\sklearn\\model_selection\\_validation.py:458: DataConversionWarning: A column-vector y was passed when a 1d array was expected. Please change the shape of y to (n_samples,), for example using ravel().\n",
      "  estimator.fit(X_train, y_train, **fit_params)\n",
      "C:\\Users\\wrgorman\\AppData\\Local\\Continuum\\anaconda3\\lib\\site-packages\\sklearn\\model_selection\\_validation.py:458: DataConversionWarning: A column-vector y was passed when a 1d array was expected. Please change the shape of y to (n_samples,), for example using ravel().\n",
      "  estimator.fit(X_train, y_train, **fit_params)\n",
      "C:\\Users\\wrgorman\\AppData\\Local\\Continuum\\anaconda3\\lib\\site-packages\\sklearn\\model_selection\\_validation.py:458: DataConversionWarning: A column-vector y was passed when a 1d array was expected. Please change the shape of y to (n_samples,), for example using ravel().\n",
      "  estimator.fit(X_train, y_train, **fit_params)\n",
      "C:\\Users\\wrgorman\\AppData\\Local\\Continuum\\anaconda3\\lib\\site-packages\\sklearn\\model_selection\\_validation.py:458: DataConversionWarning: A column-vector y was passed when a 1d array was expected. Please change the shape of y to (n_samples,), for example using ravel().\n",
      "  estimator.fit(X_train, y_train, **fit_params)\n",
      "C:\\Users\\wrgorman\\AppData\\Local\\Continuum\\anaconda3\\lib\\site-packages\\sklearn\\model_selection\\_validation.py:458: DataConversionWarning: A column-vector y was passed when a 1d array was expected. Please change the shape of y to (n_samples,), for example using ravel().\n",
      "  estimator.fit(X_train, y_train, **fit_params)\n",
      "C:\\Users\\wrgorman\\AppData\\Local\\Continuum\\anaconda3\\lib\\site-packages\\sklearn\\model_selection\\_validation.py:458: DataConversionWarning: A column-vector y was passed when a 1d array was expected. Please change the shape of y to (n_samples,), for example using ravel().\n",
      "  estimator.fit(X_train, y_train, **fit_params)\n",
      "C:\\Users\\wrgorman\\AppData\\Local\\Continuum\\anaconda3\\lib\\site-packages\\sklearn\\model_selection\\_validation.py:458: DataConversionWarning: A column-vector y was passed when a 1d array was expected. Please change the shape of y to (n_samples,), for example using ravel().\n",
      "  estimator.fit(X_train, y_train, **fit_params)\n",
      "C:\\Users\\wrgorman\\AppData\\Local\\Continuum\\anaconda3\\lib\\site-packages\\sklearn\\model_selection\\_validation.py:458: DataConversionWarning: A column-vector y was passed when a 1d array was expected. Please change the shape of y to (n_samples,), for example using ravel().\n",
      "  estimator.fit(X_train, y_train, **fit_params)\n",
      "C:\\Users\\wrgorman\\AppData\\Local\\Continuum\\anaconda3\\lib\\site-packages\\sklearn\\model_selection\\_validation.py:458: DataConversionWarning: A column-vector y was passed when a 1d array was expected. Please change the shape of y to (n_samples,), for example using ravel().\n",
      "  estimator.fit(X_train, y_train, **fit_params)\n",
      "C:\\Users\\wrgorman\\AppData\\Local\\Continuum\\anaconda3\\lib\\site-packages\\sklearn\\model_selection\\_validation.py:458: DataConversionWarning: A column-vector y was passed when a 1d array was expected. Please change the shape of y to (n_samples,), for example using ravel().\n",
      "  estimator.fit(X_train, y_train, **fit_params)\n"
     ]
    },
    {
     "name": "stderr",
     "output_type": "stream",
     "text": [
      "C:\\Users\\wrgorman\\AppData\\Local\\Continuum\\anaconda3\\lib\\site-packages\\sklearn\\model_selection\\_validation.py:458: DataConversionWarning: A column-vector y was passed when a 1d array was expected. Please change the shape of y to (n_samples,), for example using ravel().\n",
      "  estimator.fit(X_train, y_train, **fit_params)\n",
      "C:\\Users\\wrgorman\\AppData\\Local\\Continuum\\anaconda3\\lib\\site-packages\\sklearn\\model_selection\\_validation.py:458: DataConversionWarning: A column-vector y was passed when a 1d array was expected. Please change the shape of y to (n_samples,), for example using ravel().\n",
      "  estimator.fit(X_train, y_train, **fit_params)\n",
      "C:\\Users\\wrgorman\\AppData\\Local\\Continuum\\anaconda3\\lib\\site-packages\\sklearn\\model_selection\\_validation.py:458: DataConversionWarning: A column-vector y was passed when a 1d array was expected. Please change the shape of y to (n_samples,), for example using ravel().\n",
      "  estimator.fit(X_train, y_train, **fit_params)\n",
      "C:\\Users\\wrgorman\\AppData\\Local\\Continuum\\anaconda3\\lib\\site-packages\\sklearn\\model_selection\\_validation.py:458: DataConversionWarning: A column-vector y was passed when a 1d array was expected. Please change the shape of y to (n_samples,), for example using ravel().\n",
      "  estimator.fit(X_train, y_train, **fit_params)\n",
      "C:\\Users\\wrgorman\\AppData\\Local\\Continuum\\anaconda3\\lib\\site-packages\\sklearn\\model_selection\\_search.py:740: DataConversionWarning: A column-vector y was passed when a 1d array was expected. Please change the shape of y to (n_samples,), for example using ravel().\n",
      "  self.best_estimator_.fit(X, y, **fit_params)\n"
     ]
    },
    {
     "name": "stdout",
     "output_type": "stream",
     "text": [
      "{'criterion': 'gini', 'n_estimators': 100}\n",
      "Accuracy :  1.0\n",
      "Report :               precision    recall  f1-score   support\n",
      "\n",
      "        Bad       1.00      1.00      1.00        81\n",
      "       Good       1.00      1.00      1.00       219\n",
      "\n",
      "avg / total       1.00      1.00      1.00       300\n",
      "\n"
     ]
    }
   ],
   "source": [
    "# Your code here! :)\n",
    "\n",
    "import numpy as np \n",
    "\n",
    "#number of trees in the forest\n",
    "#n_estimators  = np.linspace(10, 100, 10, endpoint=True) \n",
    "n_estimators = [10, 50, 100]\n",
    "#The function to measure the quality of a split. Supported criteria are “gini” for the Gini impurity and \n",
    "#“entropy” for the information gain. \n",
    "#Note: this parameter is tree-specific.\n",
    "criterion = ['gini', 'entropy']\n",
    "\n",
    "print(n_estimators)\n",
    "#print(np.reshape(n_estimators, (-1,1)))\n",
    "#print(np.reshape(n_estimators, (1,-1)))\n",
    "#n_estimators = np.reshape(n_estimators, (1,-1))\n",
    "print(np.ravel(n_estimators))\n",
    "print(np.reshape(n_estimators, (-1,)))\n",
    "print(np.reshape(n_estimators, (1, -1)))\n",
    "\n",
    "n_estimators = np.reshape(n_estimators, (-1,))\n",
    "n_estimators = np.ravel(n_estimators)\n",
    "\n",
    "print(criterion)\n",
    "\n",
    "\n",
    "param_grid = { \n",
    "    'n_estimators': n_estimators,\n",
    "    'criterion': criterion\n",
    "\n",
    "}\n",
    "\n",
    "model = RandomForestClassifier() \n",
    "\n",
    "\n",
    "cv_rfc = GridSearchCV(estimator = model, param_grid = param_grid, cv = 5)\n",
    "\n",
    "X = df.drop(['Class'], axis=1)\n",
    "Y = df[['Class']]\n",
    "\n",
    "cv_rfc.fit(X, Y)\n",
    "print (cv_rfc.best_params_) # {'max_depth': 2.0, 'min_samples_leaf': 0.2, 'min_samples_split': 0.1}\n",
    "\n",
    "\n",
    "#split the data into 70% training, and 30% testing\n",
    "X_train, X_test, y_train, y_test = train_test_split(X, Y, \n",
    "    random_state=100,\n",
    "    test_size = 0.30,\n",
    "    train_size = 0.70)\n",
    "\n",
    "\n",
    "\n",
    "from sklearn.metrics import accuracy_score\n",
    "\n",
    "y_predict  = cv_rfc.predict(X_test) \n",
    "#model.fit(X, Y)\n",
    "#y_predict  = model.predict(X_test) \n",
    "\n",
    "print (\"Accuracy : \", \n",
    "accuracy_score(y_test, y_predict)) # sklearn.metrics.accuracy_score(y_true, y_pred, normalize=True, sample_weight=None)\n",
    "      \n",
    "# sklearn.metrics.classification_report(y_true, y_pred, labels=None, target_names=None, sample_weight=None, digits=2, \n",
    "#    output_dict=False)[source]\n",
    "\n",
    "target_names = ['class 0', 'class 1', 'class 2']\n",
    "print(\"Report : \", \n",
    "classification_report(y_test, y_predict) ) #, target_names = target_names)) \n"
   ]
  },
  {
   "cell_type": "markdown",
   "metadata": {},
   "source": [
    "As mentioned, there are certain ways to \"peek\" into a model created by the Random Forests algorithm. The first, and most popular one, is the Feature Importance calculation functionality. This allows the ML practitioner to see an ordering of the importance of the features that have contributed the most to the predictive accuracy of the model. \n",
    "\n",
    "You can see how to use this in the scikit-learn documentation (http://scikit-learn.org/stable/modules/generated/sklearn.ensemble.RandomForestClassifier.html#sklearn.ensemble.RandomForestClassifier.feature_importances_). Now, if you tried this, you would just get an ordered table of not directly interpretable numeric values. Thus, it's much more useful to show the feature importance in a visual way. You can see an example of how that's done here: http://scikit-learn.org/stable/auto_examples/ensemble/plot_forest_importances.html#sphx-glr-auto-examples-ensemble-plot-forest-importances-py\n",
    "\n",
    "Now you try! Let's visualize the importance of features from your Random Forests model!"
   ]
  },
  {
   "cell_type": "code",
   "execution_count": 11,
   "metadata": {},
   "outputs": [],
   "source": [
    "# Your code here"
   ]
  },
  {
   "cell_type": "markdown",
   "metadata": {},
   "source": [
    "A final method for gaining some insight into the inner working of your Random Forests models is a so-called Partial Dependence Plot. The Partial Dependence Plot (PDP or PD plot) shows the marginal effect of a feature on the predicted outcome of a previously fit model. The prediction function is fixed at a few values of the chosen features and averaged over the other features. A partial dependence plot can show if the relationship between the target and a feature is linear, monotonic or more complex. \n",
    "\n",
    "In scikit-learn, PDPs are implemented and available for certain algorithms, but at this point (version 0.20.0) they are not yet implemented for Random Forests. Thankfully, there is an add-on package called **PDPbox** (https://pdpbox.readthedocs.io/en/latest/) which adds this functionality to Random Forests. The package is easy to install through pip."
   ]
  },
  {
   "cell_type": "code",
   "execution_count": 12,
   "metadata": {},
   "outputs": [
    {
     "name": "stdout",
     "output_type": "stream",
     "text": [
      "Requirement already satisfied: pdpbox in c:\\users\\wrgorman\\appdata\\local\\continuum\\anaconda3\\lib\\site-packages (0.2.0)\n",
      "Requirement already satisfied: joblib in c:\\users\\wrgorman\\appdata\\local\\continuum\\anaconda3\\lib\\site-packages (from pdpbox) (0.13.2)\n",
      "Requirement already satisfied: matplotlib>=2.1.2 in c:\\users\\wrgorman\\appdata\\local\\continuum\\anaconda3\\lib\\site-packages (from pdpbox) (2.2.3)\n",
      "Requirement already satisfied: pandas in c:\\users\\wrgorman\\appdata\\local\\continuum\\anaconda3\\lib\\site-packages (from pdpbox) (0.23.4)\n",
      "Requirement already satisfied: scikit-learn in c:\\users\\wrgorman\\appdata\\local\\continuum\\anaconda3\\lib\\site-packages (from pdpbox) (0.19.2)\n",
      "Requirement already satisfied: scipy in c:\\users\\wrgorman\\appdata\\local\\continuum\\anaconda3\\lib\\site-packages (from pdpbox) (1.1.0)\n",
      "Requirement already satisfied: numpy in c:\\users\\wrgorman\\appdata\\local\\continuum\\anaconda3\\lib\\site-packages (from pdpbox) (1.15.1)\n",
      "Requirement already satisfied: psutil in c:\\users\\wrgorman\\appdata\\local\\continuum\\anaconda3\\lib\\site-packages (from pdpbox) (5.4.7)\n",
      "Requirement already satisfied: cycler>=0.10 in c:\\users\\wrgorman\\appdata\\local\\continuum\\anaconda3\\lib\\site-packages (from matplotlib>=2.1.2->pdpbox) (0.10.0)\n",
      "Requirement already satisfied: pyparsing!=2.0.4,!=2.1.2,!=2.1.6,>=2.0.1 in c:\\users\\wrgorman\\appdata\\local\\continuum\\anaconda3\\lib\\site-packages (from matplotlib>=2.1.2->pdpbox) (2.2.0)\n",
      "Requirement already satisfied: python-dateutil>=2.1 in c:\\users\\wrgorman\\appdata\\local\\continuum\\anaconda3\\lib\\site-packages (from matplotlib>=2.1.2->pdpbox) (2.7.3)\n",
      "Requirement already satisfied: pytz in c:\\users\\wrgorman\\appdata\\local\\continuum\\anaconda3\\lib\\site-packages (from matplotlib>=2.1.2->pdpbox) (2018.5)\n",
      "Requirement already satisfied: six>=1.10 in c:\\users\\wrgorman\\appdata\\local\\continuum\\anaconda3\\lib\\site-packages (from matplotlib>=2.1.2->pdpbox) (1.11.0)\n",
      "Requirement already satisfied: kiwisolver>=1.0.1 in c:\\users\\wrgorman\\appdata\\local\\continuum\\anaconda3\\lib\\site-packages (from matplotlib>=2.1.2->pdpbox) (1.0.1)\n",
      "Requirement already satisfied: setuptools in c:\\users\\wrgorman\\appdata\\local\\continuum\\anaconda3\\lib\\site-packages (from kiwisolver>=1.0.1->matplotlib>=2.1.2->pdpbox) (40.2.0)\n"
     ]
    },
    {
     "name": "stderr",
     "output_type": "stream",
     "text": [
      "twisted 18.7.0 requires PyHamcrest>=1.9.0, which is not installed.\n",
      "You are using pip version 10.0.1, however version 19.1.1 is available.\n",
      "You should consider upgrading via the 'python -m pip install --upgrade pip' command.\n"
     ]
    }
   ],
   "source": [
    "! pip install pdpbox"
   ]
  },
  {
   "cell_type": "markdown",
   "metadata": {},
   "source": [
    "While we encourage you to read the documentation for the package (and reading package documentation in general is a good habit to develop), the authors of the package have also written an excellent blog post on how to use it, showing examples on different algorithms from scikit-learn (the Random Forests example is towards the end of the blog post): https://briangriner.github.io/Partial_Dependence_Plots_presentation-BrianGriner-PrincetonPublicLibrary-4.14.18-updated-4.22.18.html"
   ]
  },
  {
   "cell_type": "markdown",
   "metadata": {},
   "source": [
    "So, armed with this new knowledge, feel free to pick a few features, and make a couple of Partial Dependence Plots of your own!"
   ]
  },
  {
   "cell_type": "code",
   "execution_count": 13,
   "metadata": {},
   "outputs": [],
   "source": [
    "# Your code here!"
   ]
  },
  {
   "cell_type": "markdown",
   "metadata": {},
   "source": [
    "## (Optional) Advanced Boosting-Based Algorithms"
   ]
  },
  {
   "cell_type": "markdown",
   "metadata": {},
   "source": [
    "As explained in the video lectures, the next generation of algorithms after Random Forests (that use Bagging, a.k.a. Bootstrap Aggregation) were developed using Boosting, and the first one of these were Gradient Boosted Machines, which are implemented in scikit-learn (http://scikit-learn.org/stable/modules/ensemble.html#gradient-tree-boosting)."
   ]
  },
  {
   "cell_type": "markdown",
   "metadata": {},
   "source": [
    "Still, in recent years, a number of variations on GBMs have been developed by different research amd industry groups, all of them bringing improvements, both in speed, accuracy and functionality to the original Gradient Boosting algorithms.\n",
    "\n",
    "In no order of preference, these are:\n",
    "1. **XGBoost**: https://xgboost.readthedocs.io/en/latest/\n",
    "2. **CatBoost**: https://tech.yandex.com/catboost/\n",
    "3. **LightGBM**: https://lightgbm.readthedocs.io/en/latest/"
   ]
  },
  {
   "cell_type": "markdown",
   "metadata": {},
   "source": [
    "If you're using the Anaconda distribution, these are all very easy to install:"
   ]
  },
  {
   "cell_type": "code",
   "execution_count": null,
   "metadata": {},
   "outputs": [],
   "source": [
    "! conda install -c anaconda py-xgboost"
   ]
  },
  {
   "cell_type": "code",
   "execution_count": null,
   "metadata": {},
   "outputs": [],
   "source": [
    "! conda install -c conda-forge catboost"
   ]
  },
  {
   "cell_type": "code",
   "execution_count": null,
   "metadata": {},
   "outputs": [],
   "source": [
    "! conda install -c conda-forge lightgbm"
   ]
  },
  {
   "cell_type": "markdown",
   "metadata": {},
   "source": [
    "Your task in this optional section of the mini project is to read the documentation of these three libraries, and apply all of them to the \"German Credit\" dataset, just like you did in the case of Decision Trees and Random Forests."
   ]
  },
  {
   "cell_type": "markdown",
   "metadata": {},
   "source": [
    "The final deliverable of this section should be a table (can be a pandas DataFrame) which shows the accuracy of all the five algorthms taught in this mini project in one place."
   ]
  },
  {
   "cell_type": "markdown",
   "metadata": {},
   "source": [
    "Happy modeling! :)"
   ]
  },
  {
   "cell_type": "code",
   "execution_count": null,
   "metadata": {},
   "outputs": [],
   "source": []
  }
 ],
 "metadata": {
  "kernelspec": {
   "display_name": "Python 3",
   "language": "python",
   "name": "python3"
  },
  "language_info": {
   "codemirror_mode": {
    "name": "ipython",
    "version": 3
   },
   "file_extension": ".py",
   "mimetype": "text/x-python",
   "name": "python",
   "nbconvert_exporter": "python",
   "pygments_lexer": "ipython3",
   "version": "3.7.0"
  }
 },
 "nbformat": 4,
 "nbformat_minor": 2
}
