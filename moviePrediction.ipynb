{
 "cells": [
  {
   "cell_type": "code",
   "execution_count": 2,
   "metadata": {},
   "outputs": [],
   "source": [
    "import numpy as np\n",
    "import pandas as pd\n",
    "import matplotlib.pyplot as plt\n",
    "import seaborn as sns\n",
    "from sklearn import tree\n",
    "from sklearn.ensemble import RandomForestRegressor\n",
    "from sklearn.linear_model import LinearRegression\n",
    "from sklearn.metrics import mean_squared_error, r2_score\n",
    "from sklearn.model_selection import train_test_split\n",
    "%matplotlib inline\n",
    "\n",
    "pd.set_option('mode.chained_assignment', None)\n",
    "pd.set_option('display.float_format', '{:,.2f}'.format)"
   ]
  },
  {
   "cell_type": "code",
   "execution_count": 3,
   "metadata": {},
   "outputs": [],
   "source": [
    "data = pd.read_csv(\"https://github.com/autumntoney/predict_the_box_office/raw/master/movie_metadata.csv\")"
   ]
  },
  {
   "cell_type": "code",
   "execution_count": 4,
   "metadata": {},
   "outputs": [
    {
     "data": {
      "text/html": [
       "<div>\n",
       "<style scoped>\n",
       "    .dataframe tbody tr th:only-of-type {\n",
       "        vertical-align: middle;\n",
       "    }\n",
       "\n",
       "    .dataframe tbody tr th {\n",
       "        vertical-align: top;\n",
       "    }\n",
       "\n",
       "    .dataframe thead th {\n",
       "        text-align: right;\n",
       "    }\n",
       "</style>\n",
       "<table border=\"1\" class=\"dataframe\">\n",
       "  <thead>\n",
       "    <tr style=\"text-align: right;\">\n",
       "      <th></th>\n",
       "      <th>color</th>\n",
       "      <th>director_name</th>\n",
       "      <th>num_critic_for_reviews</th>\n",
       "      <th>duration</th>\n",
       "      <th>director_facebook_likes</th>\n",
       "      <th>actor_3_facebook_likes</th>\n",
       "      <th>actor_2_name</th>\n",
       "      <th>actor_1_facebook_likes</th>\n",
       "      <th>gross</th>\n",
       "      <th>genres</th>\n",
       "      <th>...</th>\n",
       "      <th>num_user_for_reviews</th>\n",
       "      <th>language</th>\n",
       "      <th>country</th>\n",
       "      <th>content_rating</th>\n",
       "      <th>budget</th>\n",
       "      <th>title_year</th>\n",
       "      <th>actor_2_facebook_likes</th>\n",
       "      <th>imdb_score</th>\n",
       "      <th>aspect_ratio</th>\n",
       "      <th>movie_facebook_likes</th>\n",
       "    </tr>\n",
       "  </thead>\n",
       "  <tbody>\n",
       "    <tr>\n",
       "      <th>0</th>\n",
       "      <td>Color</td>\n",
       "      <td>James Cameron</td>\n",
       "      <td>723.00</td>\n",
       "      <td>178.00</td>\n",
       "      <td>0.00</td>\n",
       "      <td>855.00</td>\n",
       "      <td>Joel David Moore</td>\n",
       "      <td>1,000.00</td>\n",
       "      <td>760,505,847.00</td>\n",
       "      <td>Action|Adventure|Fantasy|Sci-Fi</td>\n",
       "      <td>...</td>\n",
       "      <td>3,054.00</td>\n",
       "      <td>English</td>\n",
       "      <td>USA</td>\n",
       "      <td>PG-13</td>\n",
       "      <td>237,000,000.00</td>\n",
       "      <td>2,009.00</td>\n",
       "      <td>936.00</td>\n",
       "      <td>7.90</td>\n",
       "      <td>1.78</td>\n",
       "      <td>33000</td>\n",
       "    </tr>\n",
       "    <tr>\n",
       "      <th>1</th>\n",
       "      <td>Color</td>\n",
       "      <td>Gore Verbinski</td>\n",
       "      <td>302.00</td>\n",
       "      <td>169.00</td>\n",
       "      <td>563.00</td>\n",
       "      <td>1,000.00</td>\n",
       "      <td>Orlando Bloom</td>\n",
       "      <td>40,000.00</td>\n",
       "      <td>309,404,152.00</td>\n",
       "      <td>Action|Adventure|Fantasy</td>\n",
       "      <td>...</td>\n",
       "      <td>1,238.00</td>\n",
       "      <td>English</td>\n",
       "      <td>USA</td>\n",
       "      <td>PG-13</td>\n",
       "      <td>300,000,000.00</td>\n",
       "      <td>2,007.00</td>\n",
       "      <td>5,000.00</td>\n",
       "      <td>7.10</td>\n",
       "      <td>2.35</td>\n",
       "      <td>0</td>\n",
       "    </tr>\n",
       "    <tr>\n",
       "      <th>2</th>\n",
       "      <td>Color</td>\n",
       "      <td>Sam Mendes</td>\n",
       "      <td>602.00</td>\n",
       "      <td>148.00</td>\n",
       "      <td>0.00</td>\n",
       "      <td>161.00</td>\n",
       "      <td>Rory Kinnear</td>\n",
       "      <td>11,000.00</td>\n",
       "      <td>200,074,175.00</td>\n",
       "      <td>Action|Adventure|Thriller</td>\n",
       "      <td>...</td>\n",
       "      <td>994.00</td>\n",
       "      <td>English</td>\n",
       "      <td>UK</td>\n",
       "      <td>PG-13</td>\n",
       "      <td>245,000,000.00</td>\n",
       "      <td>2,015.00</td>\n",
       "      <td>393.00</td>\n",
       "      <td>6.80</td>\n",
       "      <td>2.35</td>\n",
       "      <td>85000</td>\n",
       "    </tr>\n",
       "    <tr>\n",
       "      <th>3</th>\n",
       "      <td>Color</td>\n",
       "      <td>Christopher Nolan</td>\n",
       "      <td>813.00</td>\n",
       "      <td>164.00</td>\n",
       "      <td>22,000.00</td>\n",
       "      <td>23,000.00</td>\n",
       "      <td>Christian Bale</td>\n",
       "      <td>27,000.00</td>\n",
       "      <td>448,130,642.00</td>\n",
       "      <td>Action|Thriller</td>\n",
       "      <td>...</td>\n",
       "      <td>2,701.00</td>\n",
       "      <td>English</td>\n",
       "      <td>USA</td>\n",
       "      <td>PG-13</td>\n",
       "      <td>250,000,000.00</td>\n",
       "      <td>2,012.00</td>\n",
       "      <td>23,000.00</td>\n",
       "      <td>8.50</td>\n",
       "      <td>2.35</td>\n",
       "      <td>164000</td>\n",
       "    </tr>\n",
       "    <tr>\n",
       "      <th>4</th>\n",
       "      <td>NaN</td>\n",
       "      <td>Doug Walker</td>\n",
       "      <td>nan</td>\n",
       "      <td>nan</td>\n",
       "      <td>131.00</td>\n",
       "      <td>nan</td>\n",
       "      <td>Rob Walker</td>\n",
       "      <td>131.00</td>\n",
       "      <td>nan</td>\n",
       "      <td>Documentary</td>\n",
       "      <td>...</td>\n",
       "      <td>nan</td>\n",
       "      <td>NaN</td>\n",
       "      <td>NaN</td>\n",
       "      <td>NaN</td>\n",
       "      <td>nan</td>\n",
       "      <td>nan</td>\n",
       "      <td>12.00</td>\n",
       "      <td>7.10</td>\n",
       "      <td>nan</td>\n",
       "      <td>0</td>\n",
       "    </tr>\n",
       "  </tbody>\n",
       "</table>\n",
       "<p>5 rows × 28 columns</p>\n",
       "</div>"
      ],
      "text/plain": [
       "   color      director_name  num_critic_for_reviews  duration  \\\n",
       "0  Color      James Cameron                  723.00    178.00   \n",
       "1  Color     Gore Verbinski                  302.00    169.00   \n",
       "2  Color         Sam Mendes                  602.00    148.00   \n",
       "3  Color  Christopher Nolan                  813.00    164.00   \n",
       "4    NaN        Doug Walker                     nan       nan   \n",
       "\n",
       "   director_facebook_likes  actor_3_facebook_likes      actor_2_name  \\\n",
       "0                     0.00                  855.00  Joel David Moore   \n",
       "1                   563.00                1,000.00     Orlando Bloom   \n",
       "2                     0.00                  161.00      Rory Kinnear   \n",
       "3                22,000.00               23,000.00    Christian Bale   \n",
       "4                   131.00                     nan        Rob Walker   \n",
       "\n",
       "   actor_1_facebook_likes          gross                           genres  \\\n",
       "0                1,000.00 760,505,847.00  Action|Adventure|Fantasy|Sci-Fi   \n",
       "1               40,000.00 309,404,152.00         Action|Adventure|Fantasy   \n",
       "2               11,000.00 200,074,175.00        Action|Adventure|Thriller   \n",
       "3               27,000.00 448,130,642.00                  Action|Thriller   \n",
       "4                  131.00            nan                      Documentary   \n",
       "\n",
       "          ...          num_user_for_reviews language  country  content_rating  \\\n",
       "0         ...                      3,054.00  English      USA           PG-13   \n",
       "1         ...                      1,238.00  English      USA           PG-13   \n",
       "2         ...                        994.00  English       UK           PG-13   \n",
       "3         ...                      2,701.00  English      USA           PG-13   \n",
       "4         ...                           nan      NaN      NaN             NaN   \n",
       "\n",
       "          budget  title_year actor_2_facebook_likes imdb_score  aspect_ratio  \\\n",
       "0 237,000,000.00    2,009.00                 936.00       7.90          1.78   \n",
       "1 300,000,000.00    2,007.00               5,000.00       7.10          2.35   \n",
       "2 245,000,000.00    2,015.00                 393.00       6.80          2.35   \n",
       "3 250,000,000.00    2,012.00              23,000.00       8.50          2.35   \n",
       "4            nan         nan                  12.00       7.10           nan   \n",
       "\n",
       "  movie_facebook_likes  \n",
       "0                33000  \n",
       "1                    0  \n",
       "2                85000  \n",
       "3               164000  \n",
       "4                    0  \n",
       "\n",
       "[5 rows x 28 columns]"
      ]
     },
     "execution_count": 4,
     "metadata": {},
     "output_type": "execute_result"
    }
   ],
   "source": [
    "data.head()"
   ]
  },
  {
   "cell_type": "code",
   "execution_count": 5,
   "metadata": {},
   "outputs": [
    {
     "data": {
      "text/plain": [
       "(5043, 28)"
      ]
     },
     "execution_count": 5,
     "metadata": {},
     "output_type": "execute_result"
    }
   ],
   "source": [
    "data.shape"
   ]
  },
  {
   "cell_type": "code",
   "execution_count": 6,
   "metadata": {},
   "outputs": [
    {
     "data": {
      "text/html": [
       "<div>\n",
       "<style scoped>\n",
       "    .dataframe tbody tr th:only-of-type {\n",
       "        vertical-align: middle;\n",
       "    }\n",
       "\n",
       "    .dataframe tbody tr th {\n",
       "        vertical-align: top;\n",
       "    }\n",
       "\n",
       "    .dataframe thead th {\n",
       "        text-align: right;\n",
       "    }\n",
       "</style>\n",
       "<table border=\"1\" class=\"dataframe\">\n",
       "  <thead>\n",
       "    <tr style=\"text-align: right;\">\n",
       "      <th></th>\n",
       "      <th>num_critic_for_reviews</th>\n",
       "      <th>duration</th>\n",
       "      <th>director_facebook_likes</th>\n",
       "      <th>actor_3_facebook_likes</th>\n",
       "      <th>actor_1_facebook_likes</th>\n",
       "      <th>gross</th>\n",
       "      <th>num_voted_users</th>\n",
       "      <th>cast_total_facebook_likes</th>\n",
       "      <th>facenumber_in_poster</th>\n",
       "      <th>num_user_for_reviews</th>\n",
       "      <th>budget</th>\n",
       "      <th>title_year</th>\n",
       "      <th>actor_2_facebook_likes</th>\n",
       "      <th>imdb_score</th>\n",
       "      <th>aspect_ratio</th>\n",
       "      <th>movie_facebook_likes</th>\n",
       "    </tr>\n",
       "  </thead>\n",
       "  <tbody>\n",
       "    <tr>\n",
       "      <th>count</th>\n",
       "      <td>4,993.00</td>\n",
       "      <td>5,028.00</td>\n",
       "      <td>4,939.00</td>\n",
       "      <td>5,020.00</td>\n",
       "      <td>5,036.00</td>\n",
       "      <td>4,159.00</td>\n",
       "      <td>5,043.00</td>\n",
       "      <td>5,043.00</td>\n",
       "      <td>5,030.00</td>\n",
       "      <td>5,022.00</td>\n",
       "      <td>4,551.00</td>\n",
       "      <td>4,935.00</td>\n",
       "      <td>5,030.00</td>\n",
       "      <td>5,043.00</td>\n",
       "      <td>4,714.00</td>\n",
       "      <td>5,043.00</td>\n",
       "    </tr>\n",
       "    <tr>\n",
       "      <th>mean</th>\n",
       "      <td>140.19</td>\n",
       "      <td>107.20</td>\n",
       "      <td>686.51</td>\n",
       "      <td>645.01</td>\n",
       "      <td>6,560.05</td>\n",
       "      <td>48,507,385.63</td>\n",
       "      <td>83,668.16</td>\n",
       "      <td>9,699.06</td>\n",
       "      <td>1.37</td>\n",
       "      <td>272.77</td>\n",
       "      <td>39,752,620.44</td>\n",
       "      <td>2,002.47</td>\n",
       "      <td>1,651.75</td>\n",
       "      <td>6.44</td>\n",
       "      <td>2.22</td>\n",
       "      <td>7,525.96</td>\n",
       "    </tr>\n",
       "    <tr>\n",
       "      <th>std</th>\n",
       "      <td>121.60</td>\n",
       "      <td>25.20</td>\n",
       "      <td>2,813.33</td>\n",
       "      <td>1,665.04</td>\n",
       "      <td>15,020.76</td>\n",
       "      <td>68,471,915.43</td>\n",
       "      <td>138,485.26</td>\n",
       "      <td>18,163.80</td>\n",
       "      <td>2.01</td>\n",
       "      <td>377.98</td>\n",
       "      <td>206,114,898.45</td>\n",
       "      <td>12.47</td>\n",
       "      <td>4,042.44</td>\n",
       "      <td>1.13</td>\n",
       "      <td>1.39</td>\n",
       "      <td>19,320.45</td>\n",
       "    </tr>\n",
       "    <tr>\n",
       "      <th>min</th>\n",
       "      <td>1.00</td>\n",
       "      <td>7.00</td>\n",
       "      <td>0.00</td>\n",
       "      <td>0.00</td>\n",
       "      <td>0.00</td>\n",
       "      <td>162.00</td>\n",
       "      <td>5.00</td>\n",
       "      <td>0.00</td>\n",
       "      <td>0.00</td>\n",
       "      <td>1.00</td>\n",
       "      <td>218.00</td>\n",
       "      <td>1,916.00</td>\n",
       "      <td>0.00</td>\n",
       "      <td>1.60</td>\n",
       "      <td>1.18</td>\n",
       "      <td>0.00</td>\n",
       "    </tr>\n",
       "    <tr>\n",
       "      <th>25%</th>\n",
       "      <td>50.00</td>\n",
       "      <td>93.00</td>\n",
       "      <td>7.00</td>\n",
       "      <td>133.00</td>\n",
       "      <td>614.00</td>\n",
       "      <td>5,351,178.00</td>\n",
       "      <td>8,593.50</td>\n",
       "      <td>1,411.00</td>\n",
       "      <td>0.00</td>\n",
       "      <td>65.00</td>\n",
       "      <td>6,000,000.00</td>\n",
       "      <td>1,999.00</td>\n",
       "      <td>281.00</td>\n",
       "      <td>5.80</td>\n",
       "      <td>1.85</td>\n",
       "      <td>0.00</td>\n",
       "    </tr>\n",
       "    <tr>\n",
       "      <th>50%</th>\n",
       "      <td>110.00</td>\n",
       "      <td>103.00</td>\n",
       "      <td>49.00</td>\n",
       "      <td>371.50</td>\n",
       "      <td>988.00</td>\n",
       "      <td>25,528,495.00</td>\n",
       "      <td>34,359.00</td>\n",
       "      <td>3,090.00</td>\n",
       "      <td>1.00</td>\n",
       "      <td>156.00</td>\n",
       "      <td>20,000,000.00</td>\n",
       "      <td>2,005.00</td>\n",
       "      <td>595.00</td>\n",
       "      <td>6.60</td>\n",
       "      <td>2.35</td>\n",
       "      <td>166.00</td>\n",
       "    </tr>\n",
       "    <tr>\n",
       "      <th>75%</th>\n",
       "      <td>195.00</td>\n",
       "      <td>118.00</td>\n",
       "      <td>194.50</td>\n",
       "      <td>636.00</td>\n",
       "      <td>11,000.00</td>\n",
       "      <td>62,319,957.00</td>\n",
       "      <td>96,309.00</td>\n",
       "      <td>13,756.50</td>\n",
       "      <td>2.00</td>\n",
       "      <td>326.00</td>\n",
       "      <td>45,000,000.00</td>\n",
       "      <td>2,011.00</td>\n",
       "      <td>918.00</td>\n",
       "      <td>7.20</td>\n",
       "      <td>2.35</td>\n",
       "      <td>3,000.00</td>\n",
       "    </tr>\n",
       "    <tr>\n",
       "      <th>max</th>\n",
       "      <td>813.00</td>\n",
       "      <td>511.00</td>\n",
       "      <td>23,000.00</td>\n",
       "      <td>23,000.00</td>\n",
       "      <td>640,000.00</td>\n",
       "      <td>760,505,847.00</td>\n",
       "      <td>1,689,764.00</td>\n",
       "      <td>656,730.00</td>\n",
       "      <td>43.00</td>\n",
       "      <td>5,060.00</td>\n",
       "      <td>12,215,500,000.00</td>\n",
       "      <td>2,016.00</td>\n",
       "      <td>137,000.00</td>\n",
       "      <td>9.50</td>\n",
       "      <td>16.00</td>\n",
       "      <td>349,000.00</td>\n",
       "    </tr>\n",
       "  </tbody>\n",
       "</table>\n",
       "</div>"
      ],
      "text/plain": [
       "       num_critic_for_reviews  duration  director_facebook_likes  \\\n",
       "count                4,993.00  5,028.00                 4,939.00   \n",
       "mean                   140.19    107.20                   686.51   \n",
       "std                    121.60     25.20                 2,813.33   \n",
       "min                      1.00      7.00                     0.00   \n",
       "25%                     50.00     93.00                     7.00   \n",
       "50%                    110.00    103.00                    49.00   \n",
       "75%                    195.00    118.00                   194.50   \n",
       "max                    813.00    511.00                23,000.00   \n",
       "\n",
       "       actor_3_facebook_likes  actor_1_facebook_likes          gross  \\\n",
       "count                5,020.00                5,036.00       4,159.00   \n",
       "mean                   645.01                6,560.05  48,507,385.63   \n",
       "std                  1,665.04               15,020.76  68,471,915.43   \n",
       "min                      0.00                    0.00         162.00   \n",
       "25%                    133.00                  614.00   5,351,178.00   \n",
       "50%                    371.50                  988.00  25,528,495.00   \n",
       "75%                    636.00               11,000.00  62,319,957.00   \n",
       "max                 23,000.00              640,000.00 760,505,847.00   \n",
       "\n",
       "       num_voted_users  cast_total_facebook_likes  facenumber_in_poster  \\\n",
       "count         5,043.00                   5,043.00              5,030.00   \n",
       "mean         83,668.16                   9,699.06                  1.37   \n",
       "std         138,485.26                  18,163.80                  2.01   \n",
       "min               5.00                       0.00                  0.00   \n",
       "25%           8,593.50                   1,411.00                  0.00   \n",
       "50%          34,359.00                   3,090.00                  1.00   \n",
       "75%          96,309.00                  13,756.50                  2.00   \n",
       "max       1,689,764.00                 656,730.00                 43.00   \n",
       "\n",
       "       num_user_for_reviews            budget  title_year  \\\n",
       "count              5,022.00          4,551.00    4,935.00   \n",
       "mean                 272.77     39,752,620.44    2,002.47   \n",
       "std                  377.98    206,114,898.45       12.47   \n",
       "min                    1.00            218.00    1,916.00   \n",
       "25%                   65.00      6,000,000.00    1,999.00   \n",
       "50%                  156.00     20,000,000.00    2,005.00   \n",
       "75%                  326.00     45,000,000.00    2,011.00   \n",
       "max                5,060.00 12,215,500,000.00    2,016.00   \n",
       "\n",
       "       actor_2_facebook_likes  imdb_score  aspect_ratio  movie_facebook_likes  \n",
       "count                5,030.00    5,043.00      4,714.00              5,043.00  \n",
       "mean                 1,651.75        6.44          2.22              7,525.96  \n",
       "std                  4,042.44        1.13          1.39             19,320.45  \n",
       "min                      0.00        1.60          1.18                  0.00  \n",
       "25%                    281.00        5.80          1.85                  0.00  \n",
       "50%                    595.00        6.60          2.35                166.00  \n",
       "75%                    918.00        7.20          2.35              3,000.00  \n",
       "max                137,000.00        9.50         16.00            349,000.00  "
      ]
     },
     "execution_count": 6,
     "metadata": {},
     "output_type": "execute_result"
    }
   ],
   "source": [
    "data.describe()"
   ]
  },
  {
   "cell_type": "code",
   "execution_count": 7,
   "metadata": {},
   "outputs": [
    {
     "name": "stdout",
     "output_type": "stream",
     "text": [
      "Number of duplicates in data: 241\n"
     ]
    }
   ],
   "source": [
    "print ('Number of duplicates in data: {}'.format(\n",
    "    sum(data.duplicated(subset=['movie_title', 'title_year'], keep=False))))"
   ]
  },
  {
   "cell_type": "code",
   "execution_count": 8,
   "metadata": {},
   "outputs": [],
   "source": [
    "data = data.drop_duplicates(subset=['movie_title', 'title_year'], keep='first').copy()"
   ]
  },
  {
   "cell_type": "code",
   "execution_count": 9,
   "metadata": {},
   "outputs": [
    {
     "data": {
      "text/plain": [
       "True"
      ]
     },
     "execution_count": 9,
     "metadata": {},
     "output_type": "execute_result"
    }
   ],
   "source": [
    "# check if data has any null/nan values\n",
    "data.isnull().values.any()"
   ]
  },
  {
   "cell_type": "code",
   "execution_count": 10,
   "metadata": {},
   "outputs": [
    {
     "data": {
      "text/html": [
       "<div>\n",
       "<style scoped>\n",
       "    .dataframe tbody tr th:only-of-type {\n",
       "        vertical-align: middle;\n",
       "    }\n",
       "\n",
       "    .dataframe tbody tr th {\n",
       "        vertical-align: top;\n",
       "    }\n",
       "\n",
       "    .dataframe thead th {\n",
       "        text-align: right;\n",
       "    }\n",
       "</style>\n",
       "<table border=\"1\" class=\"dataframe\">\n",
       "  <thead>\n",
       "    <tr style=\"text-align: right;\">\n",
       "      <th></th>\n",
       "      <th>column_name</th>\n",
       "      <th>missing_count</th>\n",
       "      <th>filling_factor</th>\n",
       "    </tr>\n",
       "  </thead>\n",
       "  <tbody>\n",
       "    <tr>\n",
       "      <th>0</th>\n",
       "      <td>gross</td>\n",
       "      <td>863</td>\n",
       "      <td>82.46</td>\n",
       "    </tr>\n",
       "    <tr>\n",
       "      <th>1</th>\n",
       "      <td>budget</td>\n",
       "      <td>485</td>\n",
       "      <td>90.14</td>\n",
       "    </tr>\n",
       "    <tr>\n",
       "      <th>2</th>\n",
       "      <td>aspect_ratio</td>\n",
       "      <td>326</td>\n",
       "      <td>93.37</td>\n",
       "    </tr>\n",
       "    <tr>\n",
       "      <th>3</th>\n",
       "      <td>content_rating</td>\n",
       "      <td>301</td>\n",
       "      <td>93.88</td>\n",
       "    </tr>\n",
       "    <tr>\n",
       "      <th>4</th>\n",
       "      <td>plot_keywords</td>\n",
       "      <td>152</td>\n",
       "      <td>96.91</td>\n",
       "    </tr>\n",
       "  </tbody>\n",
       "</table>\n",
       "</div>"
      ],
      "text/plain": [
       "      column_name  missing_count  filling_factor\n",
       "0           gross            863           82.46\n",
       "1          budget            485           90.14\n",
       "2    aspect_ratio            326           93.37\n",
       "3  content_rating            301           93.88\n",
       "4   plot_keywords            152           96.91"
      ]
     },
     "execution_count": 10,
     "metadata": {},
     "output_type": "execute_result"
    }
   ],
   "source": [
    "# Check how many values are null in each column\n",
    "def show_missing_data(data):\n",
    "    missing_data = data.isnull().sum().reset_index()\n",
    "    missing_data.columns = ['column_name', 'missing_count']\n",
    "    missing_data['filling_factor'] = (data.shape[0] - missing_data['missing_count']) / data.shape[0] * 100\n",
    "    return missing_data.sort_values('filling_factor').reset_index(drop=True)\n",
    "\n",
    "show_missing_data(data)[:5]"
   ]
  },
  {
   "cell_type": "code",
   "execution_count": 11,
   "metadata": {},
   "outputs": [
    {
     "data": {
      "text/html": [
       "<div>\n",
       "<style scoped>\n",
       "    .dataframe tbody tr th:only-of-type {\n",
       "        vertical-align: middle;\n",
       "    }\n",
       "\n",
       "    .dataframe tbody tr th {\n",
       "        vertical-align: top;\n",
       "    }\n",
       "\n",
       "    .dataframe thead th {\n",
       "        text-align: right;\n",
       "    }\n",
       "</style>\n",
       "<table border=\"1\" class=\"dataframe\">\n",
       "  <thead>\n",
       "    <tr style=\"text-align: right;\">\n",
       "      <th></th>\n",
       "      <th>column_name</th>\n",
       "      <th>missing_count</th>\n",
       "      <th>filling_factor</th>\n",
       "    </tr>\n",
       "  </thead>\n",
       "  <tbody>\n",
       "    <tr>\n",
       "      <th>0</th>\n",
       "      <td>budget</td>\n",
       "      <td>266</td>\n",
       "      <td>93.44</td>\n",
       "    </tr>\n",
       "    <tr>\n",
       "      <th>1</th>\n",
       "      <td>aspect_ratio</td>\n",
       "      <td>104</td>\n",
       "      <td>97.44</td>\n",
       "    </tr>\n",
       "    <tr>\n",
       "      <th>2</th>\n",
       "      <td>content_rating</td>\n",
       "      <td>64</td>\n",
       "      <td>98.42</td>\n",
       "    </tr>\n",
       "    <tr>\n",
       "      <th>3</th>\n",
       "      <td>plot_keywords</td>\n",
       "      <td>40</td>\n",
       "      <td>99.01</td>\n",
       "    </tr>\n",
       "    <tr>\n",
       "      <th>4</th>\n",
       "      <td>actor_3_name</td>\n",
       "      <td>13</td>\n",
       "      <td>99.68</td>\n",
       "    </tr>\n",
       "  </tbody>\n",
       "</table>\n",
       "</div>"
      ],
      "text/plain": [
       "      column_name  missing_count  filling_factor\n",
       "0          budget            266           93.44\n",
       "1    aspect_ratio            104           97.44\n",
       "2  content_rating             64           98.42\n",
       "3   plot_keywords             40           99.01\n",
       "4    actor_3_name             13           99.68"
      ]
     },
     "execution_count": 11,
     "metadata": {},
     "output_type": "execute_result"
    }
   ],
   "source": [
    "data.dropna(subset=['gross'], how='all', inplace=True)\n",
    "show_missing_data(data)[:5]"
   ]
  },
  {
   "cell_type": "code",
   "execution_count": 12,
   "metadata": {},
   "outputs": [
    {
     "data": {
      "text/html": [
       "<div>\n",
       "<style scoped>\n",
       "    .dataframe tbody tr th:only-of-type {\n",
       "        vertical-align: middle;\n",
       "    }\n",
       "\n",
       "    .dataframe tbody tr th {\n",
       "        vertical-align: top;\n",
       "    }\n",
       "\n",
       "    .dataframe thead th {\n",
       "        text-align: right;\n",
       "    }\n",
       "</style>\n",
       "<table border=\"1\" class=\"dataframe\">\n",
       "  <thead>\n",
       "    <tr style=\"text-align: right;\">\n",
       "      <th></th>\n",
       "      <th>column_name</th>\n",
       "      <th>missing_count</th>\n",
       "      <th>filling_factor</th>\n",
       "    </tr>\n",
       "  </thead>\n",
       "  <tbody>\n",
       "    <tr>\n",
       "      <th>0</th>\n",
       "      <td>aspect_ratio</td>\n",
       "      <td>104</td>\n",
       "      <td>97.44</td>\n",
       "    </tr>\n",
       "    <tr>\n",
       "      <th>1</th>\n",
       "      <td>content_rating</td>\n",
       "      <td>64</td>\n",
       "      <td>98.42</td>\n",
       "    </tr>\n",
       "    <tr>\n",
       "      <th>2</th>\n",
       "      <td>plot_keywords</td>\n",
       "      <td>40</td>\n",
       "      <td>99.01</td>\n",
       "    </tr>\n",
       "    <tr>\n",
       "      <th>3</th>\n",
       "      <td>actor_3_name</td>\n",
       "      <td>13</td>\n",
       "      <td>99.68</td>\n",
       "    </tr>\n",
       "    <tr>\n",
       "      <th>4</th>\n",
       "      <td>actor_3_facebook_likes</td>\n",
       "      <td>13</td>\n",
       "      <td>99.68</td>\n",
       "    </tr>\n",
       "  </tbody>\n",
       "</table>\n",
       "</div>"
      ],
      "text/plain": [
       "              column_name  missing_count  filling_factor\n",
       "0            aspect_ratio            104           97.44\n",
       "1          content_rating             64           98.42\n",
       "2           plot_keywords             40           99.01\n",
       "3            actor_3_name             13           99.68\n",
       "4  actor_3_facebook_likes             13           99.68"
      ]
     },
     "execution_count": 12,
     "metadata": {},
     "output_type": "execute_result"
    }
   ],
   "source": [
    "median_budget_per_year = data.groupby('title_year')['budget'].transform('median')\n",
    "data['budget'].fillna(median_budget_per_year, inplace=True)\n",
    "\n",
    "show_missing_data(data)[:5]"
   ]
  },
  {
   "cell_type": "code",
   "execution_count": 13,
   "metadata": {},
   "outputs": [],
   "source": [
    "data.fillna(0, inplace=True)"
   ]
  },
  {
   "cell_type": "code",
   "execution_count": 14,
   "metadata": {},
   "outputs": [],
   "source": [
    "data = data[data['title_year'] != 0]"
   ]
  },
  {
   "cell_type": "code",
   "execution_count": 15,
   "metadata": {},
   "outputs": [],
   "source": [
    "data = data[data['country'] == 'USA']"
   ]
  },
  {
   "cell_type": "code",
   "execution_count": 16,
   "metadata": {},
   "outputs": [
    {
     "data": {
      "text/plain": [
       "array([[<matplotlib.axes._subplots.AxesSubplot object at 0x0000020C2E976940>]],\n",
       "      dtype=object)"
      ]
     },
     "execution_count": 16,
     "metadata": {},
     "output_type": "execute_result"
    },
    {
     "data": {
      "image/png": "[encoded data removed]",
      "text/plain": [
       "<Figure size 432x288 with 1 Axes>"
      ]
     },
     "metadata": {
      "needs_background": "light"
     },
     "output_type": "display_data"
    }
   ],
   "source": [
    "# IMDb rating distribution\n",
    "data.hist(column='imdb_score')"
   ]
  },
  {
   "cell_type": "code",
   "execution_count": 17,
   "metadata": {},
   "outputs": [
    {
     "data": {
      "text/plain": [
       "array([[<matplotlib.axes._subplots.AxesSubplot object at 0x0000020C3412EDD8>]],\n",
       "      dtype=object)"
      ]
     },
     "execution_count": 17,
     "metadata": {},
     "output_type": "execute_result"
    },
    {
     "data": {
      "image/png": "[encoded data removed]",
      "text/plain": [
       "<Figure size 432x288 with 1 Axes>"
      ]
     },
     "metadata": {
      "needs_background": "light"
     },
     "output_type": "display_data"
    }
   ],
   "source": [
    "# Movies per year\n",
    "data.hist(column='title_year')"
   ]
  },
  {
   "cell_type": "code",
   "execution_count": 18,
   "metadata": {},
   "outputs": [
    {
     "data": {
      "text/plain": [
       "Text(0.5, 0, 'Gross (in million)')"
      ]
     },
     "execution_count": 18,
     "metadata": {},
     "output_type": "execute_result"
    },
    {
     "data": {
      "image/png": "[encoded data removed]",
      "text/plain": [
       "<Figure size 576x576 with 1 Axes>"
      ]
     },
     "metadata": {
      "needs_background": "light"
     },
     "output_type": "display_data"
    }
   ],
   "source": [
    "# Median gross box office per actor\n",
    "fig = plt.figure(figsize=(8,8))\n",
    "comparison_df = data.groupby('actor_1_name', as_index=False).mean().sort_values('gross', ascending=False)\n",
    "\n",
    "name_count_key = data['actor_1_name'].value_counts().to_dict()\n",
    "comparison_df['films'] = comparison_df['actor_1_name'].map(name_count_key)\n",
    "\n",
    "comparison_df['actor_1_name'] = comparison_df['actor_1_name'].map(str) + \" (\" + comparison_df['films'].astype(str) + \")\"\n",
    "\n",
    "comparison_df[comparison_df['films'] >= 5][['actor_1_name', 'gross']][10::-1].set_index('actor_1_name').iloc[:,0].plot(kind='barh')\n",
    "plt.legend().set_visible(False)\n",
    "plt.title(\"Median Gross of Actor_1_name's Films\")\n",
    "plt.ylabel(\"Actor_1_name (# films)\")\n",
    "plt.xlabel(\"Gross (in million)\")"
   ]
  },
  {
   "cell_type": "code",
   "execution_count": 19,
   "metadata": {},
   "outputs": [
    {
     "data": {
      "text/plain": [
       "<matplotlib.axes._subplots.AxesSubplot at 0x20c340b6cc0>"
      ]
     },
     "execution_count": 19,
     "metadata": {},
     "output_type": "execute_result"
    },
    {
     "data": {
      "image/png": "[encoded data removed]",
      "text/plain": [
       "<Figure size 432x288 with 1 Axes>"
      ]
     },
     "metadata": {
      "needs_background": "light"
     },
     "output_type": "display_data"
    }
   ],
   "source": [
    "# title year vs gross\n",
    "data.plot.scatter(x='title_year', y='gross')"
   ]
  },
  {
   "cell_type": "code",
   "execution_count": 20,
   "metadata": {},
   "outputs": [
    {
     "data": {
      "text/plain": [
       "<matplotlib.axes._subplots.AxesSubplot at 0x20c344902b0>"
      ]
     },
     "execution_count": 20,
     "metadata": {},
     "output_type": "execute_result"
    },
    {
     "data": {
      "image/png": "[encoded data removed]",
      "text/plain": [
       "<Figure size 432x288 with 1 Axes>"
      ]
     },
     "metadata": {
      "needs_background": "light"
     },
     "output_type": "display_data"
    }
   ],
   "source": [
    "# budget vs gross\n",
    "data.plot.scatter(x='budget', y='gross')"
   ]
  },
  {
   "cell_type": "code",
   "execution_count": 21,
   "metadata": {},
   "outputs": [
    {
     "data": {
      "text/html": [
       "<div>\n",
       "<style scoped>\n",
       "    .dataframe tbody tr th:only-of-type {\n",
       "        vertical-align: middle;\n",
       "    }\n",
       "\n",
       "    .dataframe tbody tr th {\n",
       "        vertical-align: top;\n",
       "    }\n",
       "\n",
       "    .dataframe thead th {\n",
       "        text-align: right;\n",
       "    }\n",
       "</style>\n",
       "<table border=\"1\" class=\"dataframe\">\n",
       "  <thead>\n",
       "    <tr style=\"text-align: right;\">\n",
       "      <th></th>\n",
       "      <th>num_critic_for_reviews</th>\n",
       "      <th>duration</th>\n",
       "      <th>director_facebook_likes</th>\n",
       "      <th>actor_3_facebook_likes</th>\n",
       "      <th>actor_1_facebook_likes</th>\n",
       "      <th>gross</th>\n",
       "      <th>num_voted_users</th>\n",
       "      <th>cast_total_facebook_likes</th>\n",
       "      <th>facenumber_in_poster</th>\n",
       "      <th>num_user_for_reviews</th>\n",
       "      <th>budget</th>\n",
       "      <th>title_year</th>\n",
       "      <th>actor_2_facebook_likes</th>\n",
       "      <th>imdb_score</th>\n",
       "      <th>aspect_ratio</th>\n",
       "      <th>movie_facebook_likes</th>\n",
       "    </tr>\n",
       "  </thead>\n",
       "  <tbody>\n",
       "    <tr>\n",
       "      <th>num_critic_for_reviews</th>\n",
       "      <td>1.00</td>\n",
       "      <td>0.28</td>\n",
       "      <td>0.19</td>\n",
       "      <td>0.28</td>\n",
       "      <td>0.18</td>\n",
       "      <td>0.49</td>\n",
       "      <td>0.61</td>\n",
       "      <td>0.25</td>\n",
       "      <td>-0.03</td>\n",
       "      <td>0.58</td>\n",
       "      <td>0.49</td>\n",
       "      <td>0.39</td>\n",
       "      <td>0.28</td>\n",
       "      <td>0.36</td>\n",
       "      <td>0.24</td>\n",
       "      <td>0.70</td>\n",
       "    </tr>\n",
       "    <tr>\n",
       "      <th>duration</th>\n",
       "      <td>0.28</td>\n",
       "      <td>1.00</td>\n",
       "      <td>0.21</td>\n",
       "      <td>0.14</td>\n",
       "      <td>0.10</td>\n",
       "      <td>0.29</td>\n",
       "      <td>0.37</td>\n",
       "      <td>0.14</td>\n",
       "      <td>0.01</td>\n",
       "      <td>0.37</td>\n",
       "      <td>0.30</td>\n",
       "      <td>-0.11</td>\n",
       "      <td>0.15</td>\n",
       "      <td>0.38</td>\n",
       "      <td>0.18</td>\n",
       "      <td>0.25</td>\n",
       "    </tr>\n",
       "    <tr>\n",
       "      <th>director_facebook_likes</th>\n",
       "      <td>0.19</td>\n",
       "      <td>0.21</td>\n",
       "      <td>1.00</td>\n",
       "      <td>0.13</td>\n",
       "      <td>0.09</td>\n",
       "      <td>0.14</td>\n",
       "      <td>0.32</td>\n",
       "      <td>0.12</td>\n",
       "      <td>-0.05</td>\n",
       "      <td>0.25</td>\n",
       "      <td>0.10</td>\n",
       "      <td>-0.06</td>\n",
       "      <td>0.12</td>\n",
       "      <td>0.22</td>\n",
       "      <td>0.06</td>\n",
       "      <td>0.18</td>\n",
       "    </tr>\n",
       "    <tr>\n",
       "      <th>actor_3_facebook_likes</th>\n",
       "      <td>0.28</td>\n",
       "      <td>0.14</td>\n",
       "      <td>0.13</td>\n",
       "      <td>1.00</td>\n",
       "      <td>0.25</td>\n",
       "      <td>0.28</td>\n",
       "      <td>0.27</td>\n",
       "      <td>0.47</td>\n",
       "      <td>0.10</td>\n",
       "      <td>0.22</td>\n",
       "      <td>0.27</td>\n",
       "      <td>0.12</td>\n",
       "      <td>0.54</td>\n",
       "      <td>0.09</td>\n",
       "      <td>0.07</td>\n",
       "      <td>0.30</td>\n",
       "    </tr>\n",
       "    <tr>\n",
       "      <th>actor_1_facebook_likes</th>\n",
       "      <td>0.18</td>\n",
       "      <td>0.10</td>\n",
       "      <td>0.09</td>\n",
       "      <td>0.25</td>\n",
       "      <td>1.00</td>\n",
       "      <td>0.13</td>\n",
       "      <td>0.18</td>\n",
       "      <td>0.95</td>\n",
       "      <td>0.06</td>\n",
       "      <td>0.13</td>\n",
       "      <td>0.15</td>\n",
       "      <td>0.09</td>\n",
       "      <td>0.38</td>\n",
       "      <td>0.12</td>\n",
       "      <td>0.07</td>\n",
       "      <td>0.13</td>\n",
       "    </tr>\n",
       "    <tr>\n",
       "      <th>gross</th>\n",
       "      <td>0.49</td>\n",
       "      <td>0.29</td>\n",
       "      <td>0.14</td>\n",
       "      <td>0.28</td>\n",
       "      <td>0.13</td>\n",
       "      <td>1.00</td>\n",
       "      <td>0.64</td>\n",
       "      <td>0.22</td>\n",
       "      <td>-0.03</td>\n",
       "      <td>0.56</td>\n",
       "      <td>0.65</td>\n",
       "      <td>0.03</td>\n",
       "      <td>0.24</td>\n",
       "      <td>0.26</td>\n",
       "      <td>0.13</td>\n",
       "      <td>0.38</td>\n",
       "    </tr>\n",
       "    <tr>\n",
       "      <th>num_voted_users</th>\n",
       "      <td>0.61</td>\n",
       "      <td>0.37</td>\n",
       "      <td>0.32</td>\n",
       "      <td>0.27</td>\n",
       "      <td>0.18</td>\n",
       "      <td>0.64</td>\n",
       "      <td>1.00</td>\n",
       "      <td>0.25</td>\n",
       "      <td>-0.04</td>\n",
       "      <td>0.79</td>\n",
       "      <td>0.42</td>\n",
       "      <td>0.02</td>\n",
       "      <td>0.25</td>\n",
       "      <td>0.50</td>\n",
       "      <td>0.14</td>\n",
       "      <td>0.53</td>\n",
       "    </tr>\n",
       "    <tr>\n",
       "      <th>cast_total_facebook_likes</th>\n",
       "      <td>0.25</td>\n",
       "      <td>0.14</td>\n",
       "      <td>0.12</td>\n",
       "      <td>0.47</td>\n",
       "      <td>0.95</td>\n",
       "      <td>0.22</td>\n",
       "      <td>0.25</td>\n",
       "      <td>1.00</td>\n",
       "      <td>0.08</td>\n",
       "      <td>0.19</td>\n",
       "      <td>0.23</td>\n",
       "      <td>0.12</td>\n",
       "      <td>0.62</td>\n",
       "      <td>0.13</td>\n",
       "      <td>0.09</td>\n",
       "      <td>0.21</td>\n",
       "    </tr>\n",
       "    <tr>\n",
       "      <th>facenumber_in_poster</th>\n",
       "      <td>-0.03</td>\n",
       "      <td>0.01</td>\n",
       "      <td>-0.05</td>\n",
       "      <td>0.10</td>\n",
       "      <td>0.06</td>\n",
       "      <td>-0.03</td>\n",
       "      <td>-0.04</td>\n",
       "      <td>0.08</td>\n",
       "      <td>1.00</td>\n",
       "      <td>-0.08</td>\n",
       "      <td>-0.03</td>\n",
       "      <td>0.08</td>\n",
       "      <td>0.07</td>\n",
       "      <td>-0.08</td>\n",
       "      <td>0.01</td>\n",
       "      <td>0.01</td>\n",
       "    </tr>\n",
       "    <tr>\n",
       "      <th>num_user_for_reviews</th>\n",
       "      <td>0.58</td>\n",
       "      <td>0.37</td>\n",
       "      <td>0.25</td>\n",
       "      <td>0.22</td>\n",
       "      <td>0.13</td>\n",
       "      <td>0.56</td>\n",
       "      <td>0.79</td>\n",
       "      <td>0.19</td>\n",
       "      <td>-0.08</td>\n",
       "      <td>1.00</td>\n",
       "      <td>0.42</td>\n",
       "      <td>0.02</td>\n",
       "      <td>0.20</td>\n",
       "      <td>0.34</td>\n",
       "      <td>0.15</td>\n",
       "      <td>0.40</td>\n",
       "    </tr>\n",
       "    <tr>\n",
       "      <th>budget</th>\n",
       "      <td>0.49</td>\n",
       "      <td>0.30</td>\n",
       "      <td>0.10</td>\n",
       "      <td>0.27</td>\n",
       "      <td>0.15</td>\n",
       "      <td>0.65</td>\n",
       "      <td>0.42</td>\n",
       "      <td>0.23</td>\n",
       "      <td>-0.03</td>\n",
       "      <td>0.42</td>\n",
       "      <td>1.00</td>\n",
       "      <td>0.22</td>\n",
       "      <td>0.24</td>\n",
       "      <td>0.07</td>\n",
       "      <td>0.20</td>\n",
       "      <td>0.33</td>\n",
       "    </tr>\n",
       "    <tr>\n",
       "      <th>title_year</th>\n",
       "      <td>0.39</td>\n",
       "      <td>-0.11</td>\n",
       "      <td>-0.06</td>\n",
       "      <td>0.12</td>\n",
       "      <td>0.09</td>\n",
       "      <td>0.03</td>\n",
       "      <td>0.02</td>\n",
       "      <td>0.12</td>\n",
       "      <td>0.08</td>\n",
       "      <td>0.02</td>\n",
       "      <td>0.22</td>\n",
       "      <td>1.00</td>\n",
       "      <td>0.12</td>\n",
       "      <td>-0.14</td>\n",
       "      <td>0.12</td>\n",
       "      <td>0.28</td>\n",
       "    </tr>\n",
       "    <tr>\n",
       "      <th>actor_2_facebook_likes</th>\n",
       "      <td>0.28</td>\n",
       "      <td>0.15</td>\n",
       "      <td>0.12</td>\n",
       "      <td>0.54</td>\n",
       "      <td>0.38</td>\n",
       "      <td>0.24</td>\n",
       "      <td>0.25</td>\n",
       "      <td>0.62</td>\n",
       "      <td>0.07</td>\n",
       "      <td>0.20</td>\n",
       "      <td>0.24</td>\n",
       "      <td>0.12</td>\n",
       "      <td>1.00</td>\n",
       "      <td>0.12</td>\n",
       "      <td>0.09</td>\n",
       "      <td>0.24</td>\n",
       "    </tr>\n",
       "    <tr>\n",
       "      <th>imdb_score</th>\n",
       "      <td>0.36</td>\n",
       "      <td>0.38</td>\n",
       "      <td>0.22</td>\n",
       "      <td>0.09</td>\n",
       "      <td>0.12</td>\n",
       "      <td>0.26</td>\n",
       "      <td>0.50</td>\n",
       "      <td>0.13</td>\n",
       "      <td>-0.08</td>\n",
       "      <td>0.34</td>\n",
       "      <td>0.07</td>\n",
       "      <td>-0.14</td>\n",
       "      <td>0.12</td>\n",
       "      <td>1.00</td>\n",
       "      <td>0.04</td>\n",
       "      <td>0.29</td>\n",
       "    </tr>\n",
       "    <tr>\n",
       "      <th>aspect_ratio</th>\n",
       "      <td>0.24</td>\n",
       "      <td>0.18</td>\n",
       "      <td>0.06</td>\n",
       "      <td>0.07</td>\n",
       "      <td>0.07</td>\n",
       "      <td>0.13</td>\n",
       "      <td>0.14</td>\n",
       "      <td>0.09</td>\n",
       "      <td>0.01</td>\n",
       "      <td>0.15</td>\n",
       "      <td>0.20</td>\n",
       "      <td>0.12</td>\n",
       "      <td>0.09</td>\n",
       "      <td>0.04</td>\n",
       "      <td>1.00</td>\n",
       "      <td>0.12</td>\n",
       "    </tr>\n",
       "    <tr>\n",
       "      <th>movie_facebook_likes</th>\n",
       "      <td>0.70</td>\n",
       "      <td>0.25</td>\n",
       "      <td>0.18</td>\n",
       "      <td>0.30</td>\n",
       "      <td>0.13</td>\n",
       "      <td>0.38</td>\n",
       "      <td>0.53</td>\n",
       "      <td>0.21</td>\n",
       "      <td>0.01</td>\n",
       "      <td>0.40</td>\n",
       "      <td>0.33</td>\n",
       "      <td>0.28</td>\n",
       "      <td>0.24</td>\n",
       "      <td>0.29</td>\n",
       "      <td>0.12</td>\n",
       "      <td>1.00</td>\n",
       "    </tr>\n",
       "  </tbody>\n",
       "</table>\n",
       "</div>"
      ],
      "text/plain": [
       "                           num_critic_for_reviews  duration  \\\n",
       "num_critic_for_reviews                       1.00      0.28   \n",
       "duration                                     0.28      1.00   \n",
       "director_facebook_likes                      0.19      0.21   \n",
       "actor_3_facebook_likes                       0.28      0.14   \n",
       "actor_1_facebook_likes                       0.18      0.10   \n",
       "gross                                        0.49      0.29   \n",
       "num_voted_users                              0.61      0.37   \n",
       "cast_total_facebook_likes                    0.25      0.14   \n",
       "facenumber_in_poster                        -0.03      0.01   \n",
       "num_user_for_reviews                         0.58      0.37   \n",
       "budget                                       0.49      0.30   \n",
       "title_year                                   0.39     -0.11   \n",
       "actor_2_facebook_likes                       0.28      0.15   \n",
       "imdb_score                                   0.36      0.38   \n",
       "aspect_ratio                                 0.24      0.18   \n",
       "movie_facebook_likes                         0.70      0.25   \n",
       "\n",
       "                           director_facebook_likes  actor_3_facebook_likes  \\\n",
       "num_critic_for_reviews                        0.19                    0.28   \n",
       "duration                                      0.21                    0.14   \n",
       "director_facebook_likes                       1.00                    0.13   \n",
       "actor_3_facebook_likes                        0.13                    1.00   \n",
       "actor_1_facebook_likes                        0.09                    0.25   \n",
       "gross                                         0.14                    0.28   \n",
       "num_voted_users                               0.32                    0.27   \n",
       "cast_total_facebook_likes                     0.12                    0.47   \n",
       "facenumber_in_poster                         -0.05                    0.10   \n",
       "num_user_for_reviews                          0.25                    0.22   \n",
       "budget                                        0.10                    0.27   \n",
       "title_year                                   -0.06                    0.12   \n",
       "actor_2_facebook_likes                        0.12                    0.54   \n",
       "imdb_score                                    0.22                    0.09   \n",
       "aspect_ratio                                  0.06                    0.07   \n",
       "movie_facebook_likes                          0.18                    0.30   \n",
       "\n",
       "                           actor_1_facebook_likes  gross  num_voted_users  \\\n",
       "num_critic_for_reviews                       0.18   0.49             0.61   \n",
       "duration                                     0.10   0.29             0.37   \n",
       "director_facebook_likes                      0.09   0.14             0.32   \n",
       "actor_3_facebook_likes                       0.25   0.28             0.27   \n",
       "actor_1_facebook_likes                       1.00   0.13             0.18   \n",
       "gross                                        0.13   1.00             0.64   \n",
       "num_voted_users                              0.18   0.64             1.00   \n",
       "cast_total_facebook_likes                    0.95   0.22             0.25   \n",
       "facenumber_in_poster                         0.06  -0.03            -0.04   \n",
       "num_user_for_reviews                         0.13   0.56             0.79   \n",
       "budget                                       0.15   0.65             0.42   \n",
       "title_year                                   0.09   0.03             0.02   \n",
       "actor_2_facebook_likes                       0.38   0.24             0.25   \n",
       "imdb_score                                   0.12   0.26             0.50   \n",
       "aspect_ratio                                 0.07   0.13             0.14   \n",
       "movie_facebook_likes                         0.13   0.38             0.53   \n",
       "\n",
       "                           cast_total_facebook_likes  facenumber_in_poster  \\\n",
       "num_critic_for_reviews                          0.25                 -0.03   \n",
       "duration                                        0.14                  0.01   \n",
       "director_facebook_likes                         0.12                 -0.05   \n",
       "actor_3_facebook_likes                          0.47                  0.10   \n",
       "actor_1_facebook_likes                          0.95                  0.06   \n",
       "gross                                           0.22                 -0.03   \n",
       "num_voted_users                                 0.25                 -0.04   \n",
       "cast_total_facebook_likes                       1.00                  0.08   \n",
       "facenumber_in_poster                            0.08                  1.00   \n",
       "num_user_for_reviews                            0.19                 -0.08   \n",
       "budget                                          0.23                 -0.03   \n",
       "title_year                                      0.12                  0.08   \n",
       "actor_2_facebook_likes                          0.62                  0.07   \n",
       "imdb_score                                      0.13                 -0.08   \n",
       "aspect_ratio                                    0.09                  0.01   \n",
       "movie_facebook_likes                            0.21                  0.01   \n",
       "\n",
       "                           num_user_for_reviews  budget  title_year  \\\n",
       "num_critic_for_reviews                     0.58    0.49        0.39   \n",
       "duration                                   0.37    0.30       -0.11   \n",
       "director_facebook_likes                    0.25    0.10       -0.06   \n",
       "actor_3_facebook_likes                     0.22    0.27        0.12   \n",
       "actor_1_facebook_likes                     0.13    0.15        0.09   \n",
       "gross                                      0.56    0.65        0.03   \n",
       "num_voted_users                            0.79    0.42        0.02   \n",
       "cast_total_facebook_likes                  0.19    0.23        0.12   \n",
       "facenumber_in_poster                      -0.08   -0.03        0.08   \n",
       "num_user_for_reviews                       1.00    0.42        0.02   \n",
       "budget                                     0.42    1.00        0.22   \n",
       "title_year                                 0.02    0.22        1.00   \n",
       "actor_2_facebook_likes                     0.20    0.24        0.12   \n",
       "imdb_score                                 0.34    0.07       -0.14   \n",
       "aspect_ratio                               0.15    0.20        0.12   \n",
       "movie_facebook_likes                       0.40    0.33        0.28   \n",
       "\n",
       "                           actor_2_facebook_likes  imdb_score  aspect_ratio  \\\n",
       "num_critic_for_reviews                       0.28        0.36          0.24   \n",
       "duration                                     0.15        0.38          0.18   \n",
       "director_facebook_likes                      0.12        0.22          0.06   \n",
       "actor_3_facebook_likes                       0.54        0.09          0.07   \n",
       "actor_1_facebook_likes                       0.38        0.12          0.07   \n",
       "gross                                        0.24        0.26          0.13   \n",
       "num_voted_users                              0.25        0.50          0.14   \n",
       "cast_total_facebook_likes                    0.62        0.13          0.09   \n",
       "facenumber_in_poster                         0.07       -0.08          0.01   \n",
       "num_user_for_reviews                         0.20        0.34          0.15   \n",
       "budget                                       0.24        0.07          0.20   \n",
       "title_year                                   0.12       -0.14          0.12   \n",
       "actor_2_facebook_likes                       1.00        0.12          0.09   \n",
       "imdb_score                                   0.12        1.00          0.04   \n",
       "aspect_ratio                                 0.09        0.04          1.00   \n",
       "movie_facebook_likes                         0.24        0.29          0.12   \n",
       "\n",
       "                           movie_facebook_likes  \n",
       "num_critic_for_reviews                     0.70  \n",
       "duration                                   0.25  \n",
       "director_facebook_likes                    0.18  \n",
       "actor_3_facebook_likes                     0.30  \n",
       "actor_1_facebook_likes                     0.13  \n",
       "gross                                      0.38  \n",
       "num_voted_users                            0.53  \n",
       "cast_total_facebook_likes                  0.21  \n",
       "facenumber_in_poster                       0.01  \n",
       "num_user_for_reviews                       0.40  \n",
       "budget                                     0.33  \n",
       "title_year                                 0.28  \n",
       "actor_2_facebook_likes                     0.24  \n",
       "imdb_score                                 0.29  \n",
       "aspect_ratio                               0.12  \n",
       "movie_facebook_likes                       1.00  "
      ]
     },
     "execution_count": 21,
     "metadata": {},
     "output_type": "execute_result"
    }
   ],
   "source": [
    "data.corr()"
   ]
  },
  {
   "cell_type": "code",
   "execution_count": 22,
   "metadata": {
    "scrolled": true
   },
   "outputs": [
    {
     "data": {
      "text/plain": [
       "<matplotlib.axes._subplots.AxesSubplot at 0x20c340b6ac8>"
      ]
     },
     "execution_count": 22,
     "metadata": {},
     "output_type": "execute_result"
    },
    {
     "data": {
      "image/png": "[encoded data removed]",
      "text/plain": [
       "<Figure size 864x720 with 2 Axes>"
      ]
     },
     "metadata": {
      "needs_background": "light"
     },
     "output_type": "display_data"
    }
   ],
   "source": [
    "# Set up the matplotlib figure\n",
    "f, ax = plt.subplots(figsize=(12, 10))\n",
    "plt.title('Pearson Correlation of Movie Features')\n",
    "\n",
    "# Draw the heatmap using seaborn\n",
    "sns.heatmap(data.corr(),linewidths=0.25,vmax=1.0, square=True, cmap=\"YlGnBu\", linecolor='black', annot=True)"
   ]
  },
  {
   "cell_type": "code",
   "execution_count": 24,
   "metadata": {},
   "outputs": [
    {
     "data": {
      "text/plain": [
       "gross                        1.00\n",
       "budget                       0.65\n",
       "num_voted_users              0.64\n",
       "num_user_for_reviews         0.56\n",
       "num_critic_for_reviews       0.49\n",
       "movie_facebook_likes         0.38\n",
       "duration                     0.29\n",
       "actor_3_facebook_likes       0.28\n",
       "imdb_score                   0.26\n",
       "actor_2_facebook_likes       0.24\n",
       "cast_total_facebook_likes    0.22\n",
       "director_facebook_likes      0.14\n",
       "actor_1_facebook_likes       0.13\n",
       "aspect_ratio                 0.13\n",
       "title_year                   0.03\n",
       "facenumber_in_poster        -0.03\n",
       "Name: gross, dtype: float64"
      ]
     },
     "execution_count": 24,
     "metadata": {},
     "output_type": "execute_result"
    }
   ],
   "source": [
    "data.corr()['gross'].sort_values(ascending=False)"
   ]
  },
  {
   "cell_type": "code",
   "execution_count": 25,
   "metadata": {},
   "outputs": [
    {
     "data": {
      "text/html": [
       "<div>\n",
       "<style scoped>\n",
       "    .dataframe tbody tr th:only-of-type {\n",
       "        vertical-align: middle;\n",
       "    }\n",
       "\n",
       "    .dataframe tbody tr th {\n",
       "        vertical-align: top;\n",
       "    }\n",
       "\n",
       "    .dataframe thead th {\n",
       "        text-align: right;\n",
       "    }\n",
       "</style>\n",
       "<table border=\"1\" class=\"dataframe\">\n",
       "  <thead>\n",
       "    <tr style=\"text-align: right;\">\n",
       "      <th></th>\n",
       "      <th>num_critic_for_reviews</th>\n",
       "      <th>duration</th>\n",
       "      <th>director_facebook_likes</th>\n",
       "      <th>actor_3_facebook_likes</th>\n",
       "      <th>actor_1_facebook_likes</th>\n",
       "      <th>gross</th>\n",
       "      <th>num_voted_users</th>\n",
       "      <th>cast_total_facebook_likes</th>\n",
       "      <th>facenumber_in_poster</th>\n",
       "      <th>num_user_for_reviews</th>\n",
       "      <th>budget</th>\n",
       "      <th>title_year</th>\n",
       "      <th>actor_2_facebook_likes</th>\n",
       "      <th>imdb_score</th>\n",
       "      <th>movie_facebook_likes</th>\n",
       "    </tr>\n",
       "  </thead>\n",
       "  <tbody>\n",
       "    <tr>\n",
       "      <th>0</th>\n",
       "      <td>723.00</td>\n",
       "      <td>178.00</td>\n",
       "      <td>0.00</td>\n",
       "      <td>855.00</td>\n",
       "      <td>1,000.00</td>\n",
       "      <td>760,505,847.00</td>\n",
       "      <td>886204</td>\n",
       "      <td>4834</td>\n",
       "      <td>0.00</td>\n",
       "      <td>3,054.00</td>\n",
       "      <td>237,000,000.00</td>\n",
       "      <td>2,009.00</td>\n",
       "      <td>936.00</td>\n",
       "      <td>7.90</td>\n",
       "      <td>33000</td>\n",
       "    </tr>\n",
       "    <tr>\n",
       "      <th>1</th>\n",
       "      <td>302.00</td>\n",
       "      <td>169.00</td>\n",
       "      <td>563.00</td>\n",
       "      <td>1,000.00</td>\n",
       "      <td>40,000.00</td>\n",
       "      <td>309,404,152.00</td>\n",
       "      <td>471220</td>\n",
       "      <td>48350</td>\n",
       "      <td>0.00</td>\n",
       "      <td>1,238.00</td>\n",
       "      <td>300,000,000.00</td>\n",
       "      <td>2,007.00</td>\n",
       "      <td>5,000.00</td>\n",
       "      <td>7.10</td>\n",
       "      <td>0</td>\n",
       "    </tr>\n",
       "  </tbody>\n",
       "</table>\n",
       "</div>"
      ],
      "text/plain": [
       "   num_critic_for_reviews  duration  director_facebook_likes  \\\n",
       "0                  723.00    178.00                     0.00   \n",
       "1                  302.00    169.00                   563.00   \n",
       "\n",
       "   actor_3_facebook_likes  actor_1_facebook_likes          gross  \\\n",
       "0                  855.00                1,000.00 760,505,847.00   \n",
       "1                1,000.00               40,000.00 309,404,152.00   \n",
       "\n",
       "   num_voted_users  cast_total_facebook_likes  facenumber_in_poster  \\\n",
       "0           886204                       4834                  0.00   \n",
       "1           471220                      48350                  0.00   \n",
       "\n",
       "   num_user_for_reviews         budget  title_year  actor_2_facebook_likes  \\\n",
       "0              3,054.00 237,000,000.00    2,009.00                  936.00   \n",
       "1              1,238.00 300,000,000.00    2,007.00                5,000.00   \n",
       "\n",
       "   imdb_score  movie_facebook_likes  \n",
       "0        7.90                 33000  \n",
       "1        7.10                     0  "
      ]
     },
     "execution_count": 25,
     "metadata": {},
     "output_type": "execute_result"
    }
   ],
   "source": [
    "#get numerical data\n",
    "numerical_columns = data.dtypes[data.dtypes != 'object'].index\n",
    "numerical_data = data[numerical_columns]\n",
    "\n",
    "# we drop aspect_ratio, as it doesn't provide any useful info\n",
    "numerical_data.drop('aspect_ratio', axis=1, inplace=True)\n",
    "numerical_data.head(2)"
   ]
  },
  {
   "cell_type": "code",
   "execution_count": 26,
   "metadata": {},
   "outputs": [],
   "source": [
    "train, test = train_test_split(numerical_data, test_size=0.2)\n",
    "target_train = train.pop('gross')\n",
    "target_test = test.pop('gross')"
   ]
  },
  {
   "cell_type": "code",
   "execution_count": 27,
   "metadata": {},
   "outputs": [
    {
     "name": "stdout",
     "output_type": "stream",
     "text": [
      "Train data: 2523 / 3154 = 0.7999365884590995\n",
      "Test data: 631 / 3154 = 0.20006341154090043\n"
     ]
    }
   ],
   "source": [
    "print('Train data: {} / {} = {}'.format(len(train), len(numerical_data), float(len(train)/len(numerical_data))))\n",
    "print('Test data: {} / {} = {}'.format(len(test), len(numerical_data), float(len(test)/len(numerical_data))))"
   ]
  },
  {
   "cell_type": "code",
   "execution_count": 28,
   "metadata": {},
   "outputs": [
    {
     "data": {
      "text/plain": [
       "LinearRegression(copy_X=True, fit_intercept=True, n_jobs=None,\n",
       "         normalize=False)"
      ]
     },
     "execution_count": 28,
     "metadata": {},
     "output_type": "execute_result"
    }
   ],
   "source": [
    "#linear regression\n",
    "\n",
    "model = LinearRegression()\n",
    "model.fit(train, target_train)"
   ]
  },
  {
   "cell_type": "code",
   "execution_count": 29,
   "metadata": {},
   "outputs": [],
   "source": [
    "prediction = model.predict(test)"
   ]
  },
  {
   "cell_type": "code",
   "execution_count": 30,
   "metadata": {},
   "outputs": [
    {
     "name": "stdout",
     "output_type": "stream",
     "text": [
      "Mean squared error: 2015027408784817.75\n",
      "Variance score: 0.57\n"
     ]
    },
    {
     "data": {
      "image/png": "[encoded data removed]",
      "text/plain": [
       "<Figure size 432x288 with 1 Axes>"
      ]
     },
     "metadata": {
      "needs_background": "light"
     },
     "output_type": "display_data"
    }
   ],
   "source": [
    "# The mean squared error\n",
    "print(\"Mean squared error: %.2f\" % mean_squared_error(target_test, prediction))\n",
    "\n",
    "# Explained variance score: 1 is perfect prediction\n",
    "print('Variance score: %.2f' % r2_score(target_test, prediction))\n",
    "\n",
    "# Plot outputs\n",
    "plt.scatter(target_test, prediction,  color='black')\n",
    "# plt.plot(test, prediction, color='blue', linewidth=3)\n",
    "\n",
    "\n",
    "plt.show()"
   ]
  },
  {
   "cell_type": "code",
   "execution_count": 31,
   "metadata": {},
   "outputs": [
    {
     "data": {
      "text/plain": [
       "RandomForestRegressor(bootstrap=True, criterion='mse', max_depth=25,\n",
       "           max_features='auto', max_leaf_nodes=None,\n",
       "           min_impurity_decrease=0.0, min_impurity_split=None,\n",
       "           min_samples_leaf=1, min_samples_split=15,\n",
       "           min_weight_fraction_leaf=0.0, n_estimators=1000, n_jobs=None,\n",
       "           oob_score=False, random_state=1, verbose=0, warm_start=False)"
      ]
     },
     "execution_count": 31,
     "metadata": {},
     "output_type": "execute_result"
    }
   ],
   "source": [
    "#random forest\n",
    "\n",
    "forest = RandomForestRegressor(\n",
    "    max_depth=25,\n",
    "    min_samples_split=15,\n",
    "    n_estimators=1000,\n",
    "    random_state=1)\n",
    "\n",
    "forest.fit(train, target_train)"
   ]
  },
  {
   "cell_type": "code",
   "execution_count": 32,
   "metadata": {},
   "outputs": [
    {
     "data": {
      "text/plain": [
       "array([0.02195765, 0.02896635, 0.01337271, 0.01250019, 0.01156576,\n",
       "       0.54945854, 0.01553236, 0.0056153 , 0.02686061, 0.21835769,\n",
       "       0.04488711, 0.01285665, 0.0200504 , 0.01801868])"
      ]
     },
     "execution_count": 32,
     "metadata": {},
     "output_type": "execute_result"
    }
   ],
   "source": [
    "forest.feature_importances_"
   ]
  },
  {
   "cell_type": "code",
   "execution_count": 33,
   "metadata": {},
   "outputs": [],
   "source": [
    "forest_prediction = forest.predict(test)"
   ]
  },
  {
   "cell_type": "code",
   "execution_count": 34,
   "metadata": {},
   "outputs": [
    {
     "name": "stdout",
     "output_type": "stream",
     "text": [
      "Mean squared error: 1762518174406390.00\n",
      "Variance score: 0.63\n"
     ]
    },
    {
     "data": {
      "image/png": "[encoded data removed]",
      "text/plain": [
       "<Figure size 432x288 with 1 Axes>"
      ]
     },
     "metadata": {
      "needs_background": "light"
     },
     "output_type": "display_data"
    }
   ],
   "source": [
    "# The mean squared error\n",
    "print(\"Mean squared error: %.2f\" % mean_squared_error(target_test, forest_prediction))\n",
    "\n",
    "# Explained variance score: 1 is perfect prediction\n",
    "print('Variance score: %.2f' % r2_score(target_test, forest_prediction))\n",
    "\n",
    "# Plot outputs\n",
    "plt.scatter(target_test, forest_prediction,  color='black')\n",
    "# plt.plot(test, prediction, color='blue', linewidth=3)\n",
    "\n",
    "\n",
    "plt.show()"
   ]
  },
  {
   "cell_type": "code",
   "execution_count": 35,
   "metadata": {},
   "outputs": [
    {
     "data": {
      "text/html": [
       "<div>\n",
       "<style scoped>\n",
       "    .dataframe tbody tr th:only-of-type {\n",
       "        vertical-align: middle;\n",
       "    }\n",
       "\n",
       "    .dataframe tbody tr th {\n",
       "        vertical-align: top;\n",
       "    }\n",
       "\n",
       "    .dataframe thead th {\n",
       "        text-align: right;\n",
       "    }\n",
       "</style>\n",
       "<table border=\"1\" class=\"dataframe\">\n",
       "  <thead>\n",
       "    <tr style=\"text-align: right;\">\n",
       "      <th></th>\n",
       "      <th>num_critic_for_reviews</th>\n",
       "      <th>duration</th>\n",
       "      <th>director_facebook_likes</th>\n",
       "      <th>actor_3_facebook_likes</th>\n",
       "      <th>actor_1_facebook_likes</th>\n",
       "      <th>num_voted_users</th>\n",
       "      <th>cast_total_facebook_likes</th>\n",
       "      <th>facenumber_in_poster</th>\n",
       "      <th>num_user_for_reviews</th>\n",
       "      <th>budget</th>\n",
       "      <th>title_year</th>\n",
       "      <th>actor_2_facebook_likes</th>\n",
       "      <th>imdb_score</th>\n",
       "      <th>movie_facebook_likes</th>\n",
       "    </tr>\n",
       "  </thead>\n",
       "  <tbody>\n",
       "    <tr>\n",
       "      <th>277</th>\n",
       "      <td>228.00</td>\n",
       "      <td>97.00</td>\n",
       "      <td>63.00</td>\n",
       "      <td>525.00</td>\n",
       "      <td>852.00</td>\n",
       "      <td>89351</td>\n",
       "      <td>2480</td>\n",
       "      <td>0.00</td>\n",
       "      <td>214.00</td>\n",
       "      <td>105,000,000.00</td>\n",
       "      <td>2,009.00</td>\n",
       "      <td>578.00</td>\n",
       "      <td>7.10</td>\n",
       "      <td>5000</td>\n",
       "    </tr>\n",
       "    <tr>\n",
       "      <th>1264</th>\n",
       "      <td>124.00</td>\n",
       "      <td>104.00</td>\n",
       "      <td>101.00</td>\n",
       "      <td>223.00</td>\n",
       "      <td>787.00</td>\n",
       "      <td>36223</td>\n",
       "      <td>1827</td>\n",
       "      <td>1.00</td>\n",
       "      <td>208.00</td>\n",
       "      <td>30,000,000.00</td>\n",
       "      <td>2,005.00</td>\n",
       "      <td>299.00</td>\n",
       "      <td>6.20</td>\n",
       "      <td>0</td>\n",
       "    </tr>\n",
       "  </tbody>\n",
       "</table>\n",
       "</div>"
      ],
      "text/plain": [
       "      num_critic_for_reviews  duration  director_facebook_likes  \\\n",
       "277                   228.00     97.00                    63.00   \n",
       "1264                  124.00    104.00                   101.00   \n",
       "\n",
       "      actor_3_facebook_likes  actor_1_facebook_likes  num_voted_users  \\\n",
       "277                   525.00                  852.00            89351   \n",
       "1264                  223.00                  787.00            36223   \n",
       "\n",
       "      cast_total_facebook_likes  facenumber_in_poster  num_user_for_reviews  \\\n",
       "277                        2480                  0.00                214.00   \n",
       "1264                       1827                  1.00                208.00   \n",
       "\n",
       "             budget  title_year  actor_2_facebook_likes  imdb_score  \\\n",
       "277  105,000,000.00    2,009.00                  578.00        7.10   \n",
       "1264  30,000,000.00    2,005.00                  299.00        6.20   \n",
       "\n",
       "      movie_facebook_likes  \n",
       "277                   5000  \n",
       "1264                     0  "
      ]
     },
     "execution_count": 35,
     "metadata": {},
     "output_type": "execute_result"
    }
   ],
   "source": [
    "#drop post fact data\n",
    "\n",
    "train.head(2)"
   ]
  },
  {
   "cell_type": "code",
   "execution_count": 36,
   "metadata": {},
   "outputs": [
    {
     "data": {
      "text/html": [
       "<div>\n",
       "<style scoped>\n",
       "    .dataframe tbody tr th:only-of-type {\n",
       "        vertical-align: middle;\n",
       "    }\n",
       "\n",
       "    .dataframe tbody tr th {\n",
       "        vertical-align: top;\n",
       "    }\n",
       "\n",
       "    .dataframe thead th {\n",
       "        text-align: right;\n",
       "    }\n",
       "</style>\n",
       "<table border=\"1\" class=\"dataframe\">\n",
       "  <thead>\n",
       "    <tr style=\"text-align: right;\">\n",
       "      <th></th>\n",
       "      <th>duration</th>\n",
       "      <th>director_facebook_likes</th>\n",
       "      <th>actor_3_facebook_likes</th>\n",
       "      <th>actor_1_facebook_likes</th>\n",
       "      <th>cast_total_facebook_likes</th>\n",
       "      <th>facenumber_in_poster</th>\n",
       "      <th>budget</th>\n",
       "      <th>title_year</th>\n",
       "      <th>actor_2_facebook_likes</th>\n",
       "    </tr>\n",
       "  </thead>\n",
       "  <tbody>\n",
       "    <tr>\n",
       "      <th>277</th>\n",
       "      <td>97.00</td>\n",
       "      <td>63.00</td>\n",
       "      <td>525.00</td>\n",
       "      <td>852.00</td>\n",
       "      <td>2480</td>\n",
       "      <td>0.00</td>\n",
       "      <td>105,000,000.00</td>\n",
       "      <td>2,009.00</td>\n",
       "      <td>578.00</td>\n",
       "    </tr>\n",
       "    <tr>\n",
       "      <th>1264</th>\n",
       "      <td>104.00</td>\n",
       "      <td>101.00</td>\n",
       "      <td>223.00</td>\n",
       "      <td>787.00</td>\n",
       "      <td>1827</td>\n",
       "      <td>1.00</td>\n",
       "      <td>30,000,000.00</td>\n",
       "      <td>2,005.00</td>\n",
       "      <td>299.00</td>\n",
       "    </tr>\n",
       "  </tbody>\n",
       "</table>\n",
       "</div>"
      ],
      "text/plain": [
       "      duration  director_facebook_likes  actor_3_facebook_likes  \\\n",
       "277      97.00                    63.00                  525.00   \n",
       "1264    104.00                   101.00                  223.00   \n",
       "\n",
       "      actor_1_facebook_likes  cast_total_facebook_likes  facenumber_in_poster  \\\n",
       "277                   852.00                       2480                  0.00   \n",
       "1264                  787.00                       1827                  1.00   \n",
       "\n",
       "             budget  title_year  actor_2_facebook_likes  \n",
       "277  105,000,000.00    2,009.00                  578.00  \n",
       "1264  30,000,000.00    2,005.00                  299.00  "
      ]
     },
     "execution_count": 36,
     "metadata": {},
     "output_type": "execute_result"
    }
   ],
   "source": [
    "train.drop(['num_critic_for_reviews', 'num_voted_users', 'num_user_for_reviews', 'imdb_score', 'movie_facebook_likes'], axis=1, inplace=True)\n",
    "test.drop(['num_critic_for_reviews', 'num_voted_users', 'num_user_for_reviews', 'imdb_score', 'movie_facebook_likes'], axis=1, inplace=True)\n",
    "train.head(2)"
   ]
  },
  {
   "cell_type": "code",
   "execution_count": 37,
   "metadata": {},
   "outputs": [
    {
     "data": {
      "text/plain": [
       "RandomForestRegressor(bootstrap=True, criterion='mse', max_depth=25,\n",
       "           max_features='auto', max_leaf_nodes=None,\n",
       "           min_impurity_decrease=0.0, min_impurity_split=None,\n",
       "           min_samples_leaf=1, min_samples_split=15,\n",
       "           min_weight_fraction_leaf=0.0, n_estimators=1000, n_jobs=None,\n",
       "           oob_score=False, random_state=1, verbose=0, warm_start=False)"
      ]
     },
     "execution_count": 37,
     "metadata": {},
     "output_type": "execute_result"
    }
   ],
   "source": [
    "pre_data_forest = RandomForestRegressor(\n",
    "    max_depth=25,\n",
    "    min_samples_split=15,\n",
    "    n_estimators=1000,\n",
    "    random_state=1)\n",
    "\n",
    "pre_data_forest.fit(train, target_train)"
   ]
  },
  {
   "cell_type": "code",
   "execution_count": 38,
   "metadata": {},
   "outputs": [],
   "source": [
    "second_prediction = pre_data_forest.predict(test)"
   ]
  },
  {
   "cell_type": "code",
   "execution_count": 39,
   "metadata": {},
   "outputs": [
    {
     "name": "stdout",
     "output_type": "stream",
     "text": [
      "Mean squared error: 2671265143329553.50\n",
      "Variance score: 0.44\n"
     ]
    },
    {
     "data": {
      "image/png": "[encoded data removed]",
      "text/plain": [
       "<Figure size 432x288 with 1 Axes>"
      ]
     },
     "metadata": {
      "needs_background": "light"
     },
     "output_type": "display_data"
    }
   ],
   "source": [
    "# The mean squared error\n",
    "print(\"Mean squared error: %.2f\" % mean_squared_error(target_test, second_prediction))\n",
    "\n",
    "# Explained variance score: 1 is perfect prediction\n",
    "print('Variance score: %.2f' % r2_score(target_test, second_prediction))\n",
    "\n",
    "# Plot outputs\n",
    "plt.scatter(target_test, second_prediction,  color='black')\n",
    "# plt.plot(test, prediction, color='blue', linewidth=3)\n",
    "\n",
    "\n",
    "plt.show()"
   ]
  },
  {
   "cell_type": "code",
   "execution_count": 40,
   "metadata": {},
   "outputs": [],
   "source": [
    "#over/under performing movies\n",
    "\n",
    "numerical_data_target = numerical_data.pop('gross')\n",
    "all_data_prediction = forest.predict(numerical_data)"
   ]
  },
  {
   "cell_type": "code",
   "execution_count": 41,
   "metadata": {},
   "outputs": [],
   "source": [
    "performance_df = data.copy()\n",
    "\n",
    "performance_df[\"prediction\"] = all_data_prediction\n",
    "performance_df[\"performance_diff\"] = numerical_data_target - all_data_prediction\n",
    "\n",
    "performance_df.sort_values(['performance_diff'], ascending=False, inplace=True)"
   ]
  },
  {
   "cell_type": "code",
   "execution_count": 42,
   "metadata": {},
   "outputs": [
    {
     "data": {
      "text/plain": [
       "<matplotlib.legend.Legend at 0x20c34937438>"
      ]
     },
     "execution_count": 42,
     "metadata": {},
     "output_type": "execute_result"
    },
    {
     "data": {
      "image/png": "[encoded data removed]",
      "text/plain": [
       "<Figure size 864x576 with 1 Axes>"
      ]
     },
     "metadata": {
      "needs_background": "light"
     },
     "output_type": "display_data"
    }
   ],
   "source": [
    "ind = np.arange(5)\n",
    "width = 0.35\n",
    "\n",
    "fig, ax = plt.subplots(figsize=(12, 8))\n",
    "\n",
    "gross = ax.bar(ind, performance_df.gross[:5], width, color='r')\n",
    "predicted_gross = ax.bar(ind + width, performance_df.prediction[:5], width, color='g')\n",
    "\n",
    "plt.title(\"Overperforming movies\")\n",
    "plt.ylabel(\"Gross (in million)\")\n",
    "\n",
    "ax.set_xticks(ind + width / 2)\n",
    "ax.set_xticklabels(performance_df.movie_title[:5], rotation='vertical')\n",
    "ax.legend((gross[0], predicted_gross[0]), ('Gross', 'Prediction'))"
   ]
  },
  {
   "cell_type": "code",
   "execution_count": 43,
   "metadata": {},
   "outputs": [
    {
     "data": {
      "text/plain": [
       "<matplotlib.legend.Legend at 0x20c348e2908>"
      ]
     },
     "execution_count": 43,
     "metadata": {},
     "output_type": "execute_result"
    },
    {
     "data": {
      "image/png": "[encoded data removed]",
      "text/plain": [
       "<Figure size 864x576 with 1 Axes>"
      ]
     },
     "metadata": {
      "needs_background": "light"
     },
     "output_type": "display_data"
    }
   ],
   "source": [
    "\n",
    "\n",
    "ind = np.arange(5)\n",
    "width = 0.35\n",
    "\n",
    "fig, ax = plt.subplots(figsize=(12, 8))\n",
    "\n",
    "gross = ax.bar(ind, performance_df.gross[:-6:-1], width, color='r')\n",
    "predicted_gross = ax.bar(ind + width, performance_df.prediction[:-6:-1], width, color='g')\n",
    "\n",
    "plt.title(\"Overperforming movies\")\n",
    "plt.ylabel(\"Gross (in million)\")\n",
    "\n",
    "ax.set_xticks(ind + width / 2)\n",
    "ax.set_xticklabels(performance_df.movie_title[:-6:-1], rotation='vertical')\n",
    "ax.legend((gross[0], predicted_gross[0]), ('Gross', 'Prediction'))"
   ]
  },
  {
   "cell_type": "code",
   "execution_count": null,
   "metadata": {},
   "outputs": [],
   "source": []
  },
  {
   "cell_type": "code",
   "execution_count": null,
   "metadata": {},
   "outputs": [],
   "source": []
  },
  {
   "cell_type": "code",
   "execution_count": null,
   "metadata": {},
   "outputs": [],
   "source": []
  }
 ],
 "metadata": {
  "kernelspec": {
   "display_name": "Python 3",
   "language": "python",
   "name": "python3"
  },
  "language_info": {
   "codemirror_mode": {
    "name": "ipython",
    "version": 3
   },
   "file_extension": ".py",
   "mimetype": "text/x-python",
   "name": "python",
   "nbconvert_exporter": "python",
   "pygments_lexer": "ipython3",
   "version": "3.7.1"
  }
 },
 "nbformat": 4,
 "nbformat_minor": 2
}
